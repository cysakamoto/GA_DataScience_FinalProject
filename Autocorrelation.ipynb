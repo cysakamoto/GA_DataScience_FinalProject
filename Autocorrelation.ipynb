{
 "cells": [
  {
   "cell_type": "code",
   "execution_count": 1,
   "metadata": {
    "collapsed": true
   },
   "outputs": [],
   "source": [
    "%matplotlib inline\n",
    "import numpy as np\n",
    "import matplotlib.pyplot as plt\n",
    "import pandas as pd\n",
    "import seaborn as sns"
   ]
  },
  {
   "cell_type": "code",
   "execution_count": 16,
   "metadata": {
    "collapsed": false
   },
   "outputs": [
    {
     "data": {
      "text/html": [
       "<div>\n",
       "<table border=\"1\" class=\"dataframe\">\n",
       "  <thead>\n",
       "    <tr style=\"text-align: right;\">\n",
       "      <th></th>\n",
       "      <th>Unnamed: 0</th>\n",
       "      <th>zip</th>\n",
       "      <th>MedAge2k</th>\n",
       "      <th>pctba2k</th>\n",
       "      <th>pctba90</th>\n",
       "      <th>racediversity2k</th>\n",
       "      <th>racediversity90</th>\n",
       "      <th>medrent2k</th>\n",
       "      <th>medrent90</th>\n",
       "      <th>medhhinc2k</th>\n",
       "      <th>...</th>\n",
       "      <th>Long</th>\n",
       "      <th>Location</th>\n",
       "      <th>TotalWages</th>\n",
       "      <th>time</th>\n",
       "      <th>JobsT</th>\n",
       "      <th>ArtsN</th>\n",
       "      <th>ArtsW</th>\n",
       "      <th>JobsN</th>\n",
       "      <th>JobsW</th>\n",
       "      <th>ArtSupport</th>\n",
       "    </tr>\n",
       "  </thead>\n",
       "  <tbody>\n",
       "    <tr>\n",
       "      <th>0</th>\n",
       "      <td>1001.1998</td>\n",
       "      <td>1001</td>\n",
       "      <td>42.1</td>\n",
       "      <td>22.069470</td>\n",
       "      <td>20.088692</td>\n",
       "      <td>0.097185</td>\n",
       "      <td>0.051756</td>\n",
       "      <td>669.0</td>\n",
       "      <td>546.0</td>\n",
       "      <td>45735.0</td>\n",
       "      <td>...</td>\n",
       "      <td>-72.61</td>\n",
       "      <td>NA-US-MA-AGAWAM</td>\n",
       "      <td>337735143.0</td>\n",
       "      <td>1998</td>\n",
       "      <td>8129.0</td>\n",
       "      <td>143.5</td>\n",
       "      <td>974.5</td>\n",
       "      <td>7985.5</td>\n",
       "      <td>7154.5</td>\n",
       "      <td>831.0</td>\n",
       "    </tr>\n",
       "    <tr>\n",
       "      <th>1</th>\n",
       "      <td>1002.1998</td>\n",
       "      <td>1002</td>\n",
       "      <td>21.9</td>\n",
       "      <td>68.528668</td>\n",
       "      <td>65.038314</td>\n",
       "      <td>0.385330</td>\n",
       "      <td>0.302274</td>\n",
       "      <td>688.0</td>\n",
       "      <td>510.0</td>\n",
       "      <td>42567.0</td>\n",
       "      <td>...</td>\n",
       "      <td>-72.52</td>\n",
       "      <td>NA-US-MA-AMHERST</td>\n",
       "      <td>415081243.0</td>\n",
       "      <td>1998</td>\n",
       "      <td>7601.5</td>\n",
       "      <td>129.0</td>\n",
       "      <td>1248.5</td>\n",
       "      <td>7472.5</td>\n",
       "      <td>6353.0</td>\n",
       "      <td>1119.5</td>\n",
       "    </tr>\n",
       "    <tr>\n",
       "      <th>2</th>\n",
       "      <td>1003.1998</td>\n",
       "      <td>1003</td>\n",
       "      <td>NaN</td>\n",
       "      <td>NaN</td>\n",
       "      <td>NaN</td>\n",
       "      <td>NaN</td>\n",
       "      <td>NaN</td>\n",
       "      <td>NaN</td>\n",
       "      <td>NaN</td>\n",
       "      <td>NaN</td>\n",
       "      <td>...</td>\n",
       "      <td>-72.52</td>\n",
       "      <td>NA-US-MA-AMHERST</td>\n",
       "      <td>NaN</td>\n",
       "      <td>1998</td>\n",
       "      <td>NaN</td>\n",
       "      <td>NaN</td>\n",
       "      <td>NaN</td>\n",
       "      <td>NaN</td>\n",
       "      <td>NaN</td>\n",
       "      <td>NaN</td>\n",
       "    </tr>\n",
       "    <tr>\n",
       "      <th>3</th>\n",
       "      <td>1004.1998</td>\n",
       "      <td>1004</td>\n",
       "      <td>NaN</td>\n",
       "      <td>NaN</td>\n",
       "      <td>NaN</td>\n",
       "      <td>NaN</td>\n",
       "      <td>NaN</td>\n",
       "      <td>NaN</td>\n",
       "      <td>NaN</td>\n",
       "      <td>NaN</td>\n",
       "      <td>...</td>\n",
       "      <td>-72.52</td>\n",
       "      <td>NA-US-MA-AMHERST</td>\n",
       "      <td>17272423.0</td>\n",
       "      <td>1998</td>\n",
       "      <td>NaN</td>\n",
       "      <td>NaN</td>\n",
       "      <td>NaN</td>\n",
       "      <td>NaN</td>\n",
       "      <td>NaN</td>\n",
       "      <td>NaN</td>\n",
       "    </tr>\n",
       "    <tr>\n",
       "      <th>4</th>\n",
       "      <td>1005.1998</td>\n",
       "      <td>1005</td>\n",
       "      <td>37.2</td>\n",
       "      <td>20.519713</td>\n",
       "      <td>22.017723</td>\n",
       "      <td>0.054864</td>\n",
       "      <td>0.035709</td>\n",
       "      <td>593.0</td>\n",
       "      <td>431.0</td>\n",
       "      <td>50395.0</td>\n",
       "      <td>...</td>\n",
       "      <td>-72.10</td>\n",
       "      <td>NA-US-MA-BARRE</td>\n",
       "      <td>93221235.0</td>\n",
       "      <td>1998</td>\n",
       "      <td>NaN</td>\n",
       "      <td>NaN</td>\n",
       "      <td>NaN</td>\n",
       "      <td>NaN</td>\n",
       "      <td>NaN</td>\n",
       "      <td>NaN</td>\n",
       "    </tr>\n",
       "  </tbody>\n",
       "</table>\n",
       "<p>5 rows × 64 columns</p>\n",
       "</div>"
      ],
      "text/plain": [
       "   Unnamed: 0   zip  MedAge2k    pctba2k    pctba90  racediversity2k  \\\n",
       "0   1001.1998  1001      42.1  22.069470  20.088692         0.097185   \n",
       "1   1002.1998  1002      21.9  68.528668  65.038314         0.385330   \n",
       "2   1003.1998  1003       NaN        NaN        NaN              NaN   \n",
       "3   1004.1998  1004       NaN        NaN        NaN              NaN   \n",
       "4   1005.1998  1005      37.2  20.519713  22.017723         0.054864   \n",
       "\n",
       "   racediversity90  medrent2k  medrent90  medhhinc2k     ...       Long  \\\n",
       "0         0.051756      669.0      546.0     45735.0     ...     -72.61   \n",
       "1         0.302274      688.0      510.0     42567.0     ...     -72.52   \n",
       "2              NaN        NaN        NaN         NaN     ...     -72.52   \n",
       "3              NaN        NaN        NaN         NaN     ...     -72.52   \n",
       "4         0.035709      593.0      431.0     50395.0     ...     -72.10   \n",
       "\n",
       "           Location   TotalWages  time   JobsT  ArtsN   ArtsW   JobsN   JobsW  \\\n",
       "0   NA-US-MA-AGAWAM  337735143.0  1998  8129.0  143.5   974.5  7985.5  7154.5   \n",
       "1  NA-US-MA-AMHERST  415081243.0  1998  7601.5  129.0  1248.5  7472.5  6353.0   \n",
       "2  NA-US-MA-AMHERST          NaN  1998     NaN    NaN     NaN     NaN     NaN   \n",
       "3  NA-US-MA-AMHERST   17272423.0  1998     NaN    NaN     NaN     NaN     NaN   \n",
       "4    NA-US-MA-BARRE   93221235.0  1998     NaN    NaN     NaN     NaN     NaN   \n",
       "\n",
       "   ArtSupport  \n",
       "0       831.0  \n",
       "1      1119.5  \n",
       "2         NaN  \n",
       "3         NaN  \n",
       "4         NaN  \n",
       "\n",
       "[5 rows x 64 columns]"
      ]
     },
     "execution_count": 16,
     "metadata": {},
     "output_type": "execute_result"
    }
   ],
   "source": [
    "# Reading data file\n",
    "df = pd.read_csv(\"/Users/cristinasakamoto/Downloads/data.long.csv\")\n",
    "df.head()"
   ]
  },
  {
   "cell_type": "code",
   "execution_count": 17,
   "metadata": {
    "collapsed": false
   },
   "outputs": [
    {
     "data": {
      "text/plain": [
       "array(['Unnamed: 0', 'zip', 'MedAge2k', 'pctba2k', 'pctba90',\n",
       "       'racediversity2k', 'racediversity90', 'medrent2k', 'medrent90',\n",
       "       'medhhinc2k', 'medhhinc90', 'meantrav2k', 'meantrav90',\n",
       "       'medlengthres2k', 'meanlengthres90', 'pctsamehouse2k',\n",
       "       'pctsamehouse90', 'pctfemale2k', 'pctfemale90', 'pctmarried2k',\n",
       "       'pctmarried90', 'pctchild2k', 'pctchild90', 'pctunemp2k',\n",
       "       'pctunemp90', 'diversityfb2k', 'diversityanc90', 'pctrental2k',\n",
       "       'pctrental90', 'pctpov2k', 'pctpov90', 'pctbike2k', 'pctbike90',\n",
       "       'pctdrove2k', 'pctdrove90', 'pctwalk2k', 'pctwalk90', 'density2000',\n",
       "       'density1990', 'housingdensity2000', 'housingdensity1990',\n",
       "       'Pop2000', 'Pop1990', 'RentMed', 'Democ92', 'NonWhite_90',\n",
       "       'CollProfLv90', 'CrimeRate1999county', 'ARTGOSLG98', 'ZipCodeType',\n",
       "       'City', 'State', 'LocationType', 'Lat', 'Long', 'Location',\n",
       "       'TotalWages', 'time', 'JobsT', 'ArtsN', 'ArtsW', 'JobsN', 'JobsW',\n",
       "       'ArtSupport'], dtype=object)"
      ]
     },
     "execution_count": 17,
     "metadata": {},
     "output_type": "execute_result"
    }
   ],
   "source": [
    "df.columns.values"
   ]
  },
  {
   "cell_type": "code",
   "execution_count": 19,
   "metadata": {
    "collapsed": false
   },
   "outputs": [
    {
     "data": {
      "text/plain": [
       "0.30718593044513237"
      ]
     },
     "execution_count": 19,
     "metadata": {},
     "output_type": "execute_result"
    }
   ],
   "source": [
    "df['ArtsN'].autocorr(lag=1)"
   ]
  },
  {
   "cell_type": "code",
   "execution_count": null,
   "metadata": {
    "collapsed": true
   },
   "outputs": [],
   "source": []
  }
 ],
 "metadata": {
  "kernelspec": {
   "display_name": "Python 2",
   "language": "python",
   "name": "python2"
  },
  "language_info": {
   "codemirror_mode": {
    "name": "ipython",
    "version": 2
   },
   "file_extension": ".py",
   "mimetype": "text/x-python",
   "name": "python",
   "nbconvert_exporter": "python",
   "pygments_lexer": "ipython2",
   "version": "2.7.12"
  }
 },
 "nbformat": 4,
 "nbformat_minor": 0
}
