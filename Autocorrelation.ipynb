{
 "cells": [
  {
   "cell_type": "code",
   "execution_count": 1,
   "metadata": {
    "collapsed": true
   },
   "outputs": [],
   "source": [
    "%matplotlib inline\n",
    "import numpy as np\n",
    "import matplotlib.pyplot as plt\n",
    "import pandas as pd\n",
    "import seaborn as sns"
   ]
  },
  {
   "cell_type": "code",
   "execution_count": 2,
   "metadata": {
    "collapsed": false
   },
   "outputs": [
    {
     "data": {
      "text/html": [
       "<div>\n",
       "<table border=\"1\" class=\"dataframe\">\n",
       "  <thead>\n",
       "    <tr style=\"text-align: right;\">\n",
       "      <th></th>\n",
       "      <th>Unnamed: 0</th>\n",
       "      <th>zip</th>\n",
       "      <th>MedAge2k</th>\n",
       "      <th>pctba2k</th>\n",
       "      <th>pctba90</th>\n",
       "      <th>racediversity2k</th>\n",
       "      <th>racediversity90</th>\n",
       "      <th>medrent2k</th>\n",
       "      <th>medrent90</th>\n",
       "      <th>medhhinc2k</th>\n",
       "      <th>...</th>\n",
       "      <th>esNAICS_INT32</th>\n",
       "      <th>esNAICS_INT33</th>\n",
       "      <th>esNAICS_INT34</th>\n",
       "      <th>time</th>\n",
       "      <th>JobsT</th>\n",
       "      <th>ArtsN</th>\n",
       "      <th>ArtsW</th>\n",
       "      <th>JobsN</th>\n",
       "      <th>JobsW</th>\n",
       "      <th>ArtSupport</th>\n",
       "    </tr>\n",
       "  </thead>\n",
       "  <tbody>\n",
       "    <tr>\n",
       "      <th>0</th>\n",
       "      <td>75025.1998</td>\n",
       "      <td>75025</td>\n",
       "      <td>32.6</td>\n",
       "      <td>64.562533</td>\n",
       "      <td>56.361886</td>\n",
       "      <td>0.434138</td>\n",
       "      <td>0.257536</td>\n",
       "      <td>875</td>\n",
       "      <td>860</td>\n",
       "      <td>98480</td>\n",
       "      <td>...</td>\n",
       "      <td>310.75</td>\n",
       "      <td>327.50</td>\n",
       "      <td>305.25</td>\n",
       "      <td>1998</td>\n",
       "      <td>1615</td>\n",
       "      <td>48</td>\n",
       "      <td>234</td>\n",
       "      <td>1567</td>\n",
       "      <td>1381</td>\n",
       "      <td>186</td>\n",
       "    </tr>\n",
       "    <tr>\n",
       "      <th>1</th>\n",
       "      <td>48732.1998</td>\n",
       "      <td>48732</td>\n",
       "      <td>39.7</td>\n",
       "      <td>18.292533</td>\n",
       "      <td>16.080144</td>\n",
       "      <td>0.115762</td>\n",
       "      <td>0.089850</td>\n",
       "      <td>490</td>\n",
       "      <td>403</td>\n",
       "      <td>37347</td>\n",
       "      <td>...</td>\n",
       "      <td>142.00</td>\n",
       "      <td>149.25</td>\n",
       "      <td>146.25</td>\n",
       "      <td>1998</td>\n",
       "      <td>3406</td>\n",
       "      <td>6</td>\n",
       "      <td>629</td>\n",
       "      <td>3400</td>\n",
       "      <td>2777</td>\n",
       "      <td>623</td>\n",
       "    </tr>\n",
       "    <tr>\n",
       "      <th>2</th>\n",
       "      <td>17551.1998</td>\n",
       "      <td>17551</td>\n",
       "      <td>23.5</td>\n",
       "      <td>33.640652</td>\n",
       "      <td>27.965674</td>\n",
       "      <td>0.147491</td>\n",
       "      <td>0.128646</td>\n",
       "      <td>660</td>\n",
       "      <td>455</td>\n",
       "      <td>43088</td>\n",
       "      <td>...</td>\n",
       "      <td>133.75</td>\n",
       "      <td>141.75</td>\n",
       "      <td>144.00</td>\n",
       "      <td>1998</td>\n",
       "      <td>1308</td>\n",
       "      <td>9</td>\n",
       "      <td>339</td>\n",
       "      <td>1299</td>\n",
       "      <td>969</td>\n",
       "      <td>330</td>\n",
       "    </tr>\n",
       "    <tr>\n",
       "      <th>3</th>\n",
       "      <td>92404.1998</td>\n",
       "      <td>92404</td>\n",
       "      <td>29.2</td>\n",
       "      <td>12.492454</td>\n",
       "      <td>15.670007</td>\n",
       "      <td>0.753051</td>\n",
       "      <td>0.537419</td>\n",
       "      <td>550</td>\n",
       "      <td>578</td>\n",
       "      <td>31162</td>\n",
       "      <td>...</td>\n",
       "      <td>397.50</td>\n",
       "      <td>417.50</td>\n",
       "      <td>406.00</td>\n",
       "      <td>1998</td>\n",
       "      <td>10043</td>\n",
       "      <td>66</td>\n",
       "      <td>1082</td>\n",
       "      <td>9977</td>\n",
       "      <td>8961</td>\n",
       "      <td>1016</td>\n",
       "    </tr>\n",
       "    <tr>\n",
       "      <th>4</th>\n",
       "      <td>6798.1998</td>\n",
       "      <td>6798</td>\n",
       "      <td>41.0</td>\n",
       "      <td>41.928690</td>\n",
       "      <td>41.745366</td>\n",
       "      <td>0.084089</td>\n",
       "      <td>0.044776</td>\n",
       "      <td>783</td>\n",
       "      <td>718</td>\n",
       "      <td>68408</td>\n",
       "      <td>...</td>\n",
       "      <td>325.75</td>\n",
       "      <td>340.25</td>\n",
       "      <td>335.00</td>\n",
       "      <td>1998</td>\n",
       "      <td>2310</td>\n",
       "      <td>65</td>\n",
       "      <td>472</td>\n",
       "      <td>2245</td>\n",
       "      <td>1838</td>\n",
       "      <td>407</td>\n",
       "    </tr>\n",
       "  </tbody>\n",
       "</table>\n",
       "<p>5 rows × 92 columns</p>\n",
       "</div>"
      ],
      "text/plain": [
       "   Unnamed: 0    zip  MedAge2k    pctba2k    pctba90  racediversity2k  \\\n",
       "0  75025.1998  75025      32.6  64.562533  56.361886         0.434138   \n",
       "1  48732.1998  48732      39.7  18.292533  16.080144         0.115762   \n",
       "2  17551.1998  17551      23.5  33.640652  27.965674         0.147491   \n",
       "3  92404.1998  92404      29.2  12.492454  15.670007         0.753051   \n",
       "4   6798.1998   6798      41.0  41.928690  41.745366         0.084089   \n",
       "\n",
       "   racediversity90  medrent2k  medrent90  medhhinc2k     ...      \\\n",
       "0         0.257536        875        860       98480     ...       \n",
       "1         0.089850        490        403       37347     ...       \n",
       "2         0.128646        660        455       43088     ...       \n",
       "3         0.537419        550        578       31162     ...       \n",
       "4         0.044776        783        718       68408     ...       \n",
       "\n",
       "   esNAICS_INT32  esNAICS_INT33  esNAICS_INT34  time  JobsT  ArtsN  ArtsW  \\\n",
       "0         310.75         327.50         305.25  1998   1615     48    234   \n",
       "1         142.00         149.25         146.25  1998   3406      6    629   \n",
       "2         133.75         141.75         144.00  1998   1308      9    339   \n",
       "3         397.50         417.50         406.00  1998  10043     66   1082   \n",
       "4         325.75         340.25         335.00  1998   2310     65    472   \n",
       "\n",
       "   JobsN  JobsW  ArtSupport  \n",
       "0   1567   1381         186  \n",
       "1   3400   2777         623  \n",
       "2   1299    969         330  \n",
       "3   9977   8961        1016  \n",
       "4   2245   1838         407  \n",
       "\n",
       "[5 rows x 92 columns]"
      ]
     },
     "execution_count": 2,
     "metadata": {},
     "output_type": "execute_result"
    }
   ],
   "source": [
    "# Reading data file\n",
    "df = pd.read_csv(\"nomisslong_scenes_data.csv\")\n",
    "df.head()"
   ]
  },
  {
   "cell_type": "code",
   "execution_count": 3,
   "metadata": {
    "collapsed": false,
    "scrolled": true
   },
   "outputs": [
    {
     "data": {
      "text/plain": [
       "array(['Unnamed: 0', 'zip', 'MedAge2k', 'pctba2k', 'pctba90',\n",
       "       'racediversity2k', 'racediversity90', 'medrent2k', 'medrent90',\n",
       "       'medhhinc2k', 'medhhinc90', 'meantrav2k', 'meantrav90',\n",
       "       'medlengthres2k', 'meanlengthres90', 'pctsamehouse2k',\n",
       "       'pctsamehouse90', 'pctfemale2k', 'pctfemale90', 'pctmarried2k',\n",
       "       'pctmarried90', 'pctchild2k', 'pctchild90', 'pctunemp2k',\n",
       "       'pctunemp90', 'diversityfb2k', 'diversityanc90', 'pctrental2k',\n",
       "       'pctrental90', 'pctpov2k', 'pctpov90', 'pctbike2k', 'pctbike90',\n",
       "       'pctdrove2k', 'pctdrove90', 'pctwalk2k', 'pctwalk90', 'density2000',\n",
       "       'density1990', 'housingdensity2000', 'housingdensity1990',\n",
       "       'Pop2000', 'Pop1990', 'RentMed', 'Democ92', 'NonWhite_90',\n",
       "       'CollProfLv90', 'CrimeRate1999county', 'ARTGOSLG98', 'City',\n",
       "       'State', 'Location', 'zipcode', 'esNAICS_AP11', 'esNAICS_AP12',\n",
       "       'esNAICS_AP13', 'esNAICS_AP14', 'esNAICS_AP15', 'esNAICS_AP21',\n",
       "       'esNAICS_AP22', 'esNAICS_AP23', 'esNAICS_AP24', 'esNAICS_AP25',\n",
       "       'esNAICS_AP26', 'esNAICS_AP31', 'esNAICS_AP32', 'esNAICS_AP33',\n",
       "       'esNAICS_AP34', 'esNAICS_DP11', 'esNAICS_DP12', 'esNAICS_INT11',\n",
       "       'esNAICS_INT12', 'esNAICS_INT13', 'esNAICS_INT14', 'esNAICS_INT15',\n",
       "       'esNAICS_INT21', 'esNAICS_INT22', 'esNAICS_INT23', 'esNAICS_INT24',\n",
       "       'esNAICS_INT25', 'esNAICS_INT26', 'esNAICS_INT31', 'esNAICS_INT32',\n",
       "       'esNAICS_INT33', 'esNAICS_INT34', 'time', 'JobsT', 'ArtsN', 'ArtsW',\n",
       "       'JobsN', 'JobsW', 'ArtSupport'], dtype=object)"
      ]
     },
     "execution_count": 3,
     "metadata": {},
     "output_type": "execute_result"
    }
   ],
   "source": [
    "df.columns.values"
   ]
  },
  {
   "cell_type": "code",
   "execution_count": 5,
   "metadata": {
    "collapsed": false
   },
   "outputs": [
    {
     "data": {
      "text/plain": [
       "-0.015513614603092078"
      ]
     },
     "execution_count": 5,
     "metadata": {},
     "output_type": "execute_result"
    }
   ],
   "source": [
    "df['JobsN'].autocorr(lag=1)"
   ]
  },
  {
   "cell_type": "code",
   "execution_count": 6,
   "metadata": {
    "collapsed": false
   },
   "outputs": [
    {
     "data": {
      "text/plain": [
       "0.02878957211885759"
      ]
     },
     "execution_count": 6,
     "metadata": {},
     "output_type": "execute_result"
    }
   ],
   "source": [
    "df['ArtSupport'].autocorr(lag=1)"
   ]
  },
  {
   "cell_type": "code",
   "execution_count": 7,
   "metadata": {
    "collapsed": false
   },
   "outputs": [
    {
     "data": {
      "text/plain": [
       "0.026832315105965007"
      ]
     },
     "execution_count": 7,
     "metadata": {},
     "output_type": "execute_result"
    }
   ],
   "source": [
    "df['ArtsW'].autocorr(lag=1)"
   ]
  },
  {
   "cell_type": "code",
   "execution_count": 8,
   "metadata": {
    "collapsed": false
   },
   "outputs": [
    {
     "data": {
      "text/plain": [
       "-0.020869973654122534"
      ]
     },
     "execution_count": 8,
     "metadata": {},
     "output_type": "execute_result"
    }
   ],
   "source": [
    "df['JobsW'].autocorr(lag=1)"
   ]
  },
  {
   "cell_type": "code",
   "execution_count": 9,
   "metadata": {
    "collapsed": false
   },
   "outputs": [
    {
     "data": {
      "text/plain": [
       "-0.014362682479787016"
      ]
     },
     "execution_count": 9,
     "metadata": {},
     "output_type": "execute_result"
    }
   ],
   "source": [
    "df['JobsT'].autocorr(lag=1)"
   ]
  },
  {
   "cell_type": "code",
   "execution_count": 10,
   "metadata": {
    "collapsed": false
   },
   "outputs": [
    {
     "name": "stdout",
     "output_type": "stream",
     "text": [
      "1 0.0107215082748\n",
      "2 -0.0225132467807\n",
      "3 -0.0271102246238\n",
      "4 -0.0267458808641\n",
      "5 -0.0534583188153\n",
      "6 -0.0299821113833\n",
      "7 -0.0103537689112\n",
      "8 -0.0415280499578\n",
      "9 0.0627152821947\n",
      "10 -0.0391998383108\n",
      "11 -0.00387053658595\n",
      "12 -0.00606091511942\n",
      "13 0.00999593363035\n",
      "14 -0.00596623437399\n"
     ]
    }
   ],
   "source": [
    "# Testing autocorrelation for the lag between all time periods.\n",
    "\n",
    "period_lag = range(1, 15)\n",
    "auto_corrs_list = []\n",
    "for x in period_lag:\n",
    "    y = df['ArtsN'].autocorr(lag=x)\n",
    "    auto_corrs_list.append(y)\n",
    "    print x, y"
   ]
  },
  {
   "cell_type": "code",
   "execution_count": 11,
   "metadata": {
    "collapsed": false,
    "scrolled": true
   },
   "outputs": [
    {
     "data": {
      "text/plain": [
       "[<matplotlib.lines.Line2D at 0x117243b50>]"
      ]
     },
     "execution_count": 11,
     "metadata": {},
     "output_type": "execute_result"
    },
    {
     "data": {
      "image/png": "[encoded data removed]",
      "text/plain": [
       "<matplotlib.figure.Figure at 0x117186590>"
      ]
     },
     "metadata": {},
     "output_type": "display_data"
    }
   ],
   "source": [
    "plt.plot(period_lag, auto_corrs_list)"
   ]
  },
  {
   "cell_type": "code",
   "execution_count": 12,
   "metadata": {
    "collapsed": false
   },
   "outputs": [
    {
     "name": "stdout",
     "output_type": "stream",
     "text": [
      "1 -0.0155136146031\n",
      "2 0.0128289586723\n",
      "3 -0.0365475892725\n",
      "4 0.0330488589732\n",
      "5 -0.04417415953\n",
      "6 0.0114980068677\n",
      "7 -0.0211063165141\n",
      "8 -0.0394824518825\n",
      "9 0.113351419026\n",
      "10 -0.0211937410632\n",
      "11 -0.0486768359561\n",
      "12 0.0222796115483\n",
      "13 0.0518465322412\n",
      "14 -0.0193306617181\n"
     ]
    }
   ],
   "source": [
    "# Testing autocorrelation for the lag between all time periods.\n",
    "\n",
    "period_lag = range(1, 15)\n",
    "auto_corrs_list = []\n",
    "for x in period_lag:\n",
    "    y = df['JobsN'].autocorr(lag=x)\n",
    "    auto_corrs_list.append(y)\n",
    "    print x, y"
   ]
  },
  {
   "cell_type": "code",
   "execution_count": 13,
   "metadata": {
    "collapsed": false,
    "scrolled": true
   },
   "outputs": [
    {
     "data": {
      "text/plain": [
       "[<matplotlib.lines.Line2D at 0x117ea2ed0>]"
      ]
     },
     "execution_count": 13,
     "metadata": {},
     "output_type": "execute_result"
    },
    {
     "data": {
      "image/png": "[encoded data removed]",
      "text/plain": [
       "<matplotlib.figure.Figure at 0x117158d50>"
      ]
     },
     "metadata": {},
     "output_type": "display_data"
    }
   ],
   "source": [
    "plt.plot(period_lag, auto_corrs_list)"
   ]
  },
  {
   "cell_type": "code",
   "execution_count": 14,
   "metadata": {
    "collapsed": false
   },
   "outputs": [
    {
     "name": "stdout",
     "output_type": "stream",
     "text": [
      "1 -0.0143626824798\n",
      "2 0.0107454673872\n",
      "3 -0.0368822116598\n",
      "4 0.030848292459\n",
      "5 -0.0465644367437\n",
      "6 0.0103531835793\n",
      "7 -0.0180750229772\n",
      "8 -0.0402521550402\n",
      "9 0.117330767197\n",
      "10 -0.0231446047298\n",
      "11 -0.0483490748774\n",
      "12 0.0235786846526\n",
      "13 0.0506116045257\n",
      "14 -0.0192857796174\n"
     ]
    }
   ],
   "source": [
    "# Testing autocorrelation for the lag between all time periods.\n",
    "\n",
    "period_lag = range(1, 15)\n",
    "auto_corrs_list = []\n",
    "for x in period_lag:\n",
    "    y = df['JobsT'].autocorr(lag=x)\n",
    "    auto_corrs_list.append(y)\n",
    "    print x, y"
   ]
  },
  {
   "cell_type": "code",
   "execution_count": 15,
   "metadata": {
    "collapsed": false
   },
   "outputs": [
    {
     "data": {
      "text/plain": [
       "[<matplotlib.lines.Line2D at 0x118022150>]"
      ]
     },
     "execution_count": 15,
     "metadata": {},
     "output_type": "execute_result"
    },
    {
     "data": {
      "image/png": "[encoded data removed]",
      "text/plain": [
       "<matplotlib.figure.Figure at 0x117ee2050>"
      ]
     },
     "metadata": {},
     "output_type": "display_data"
    }
   ],
   "source": [
    "plt.plot(period_lag, auto_corrs_list)"
   ]
  },
  {
   "cell_type": "code",
   "execution_count": null,
   "metadata": {
    "collapsed": true
   },
   "outputs": [],
   "source": []
  }
 ],
 "metadata": {
  "kernelspec": {
   "display_name": "Python 2",
   "language": "python",
   "name": "python2"
  },
  "language_info": {
   "codemirror_mode": {
    "name": "ipython",
    "version": 2
   },
   "file_extension": ".py",
   "mimetype": "text/x-python",
   "name": "python",
   "nbconvert_exporter": "python",
   "pygments_lexer": "ipython2",
   "version": "2.7.12"
  }
 },
 "nbformat": 4,
 "nbformat_minor": 0
}
