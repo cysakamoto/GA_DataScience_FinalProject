{
 "cells": [
  {
   "cell_type": "markdown",
   "metadata": {},
   "source": [
    "# Data Science Final Project"
   ]
  },
  {
   "cell_type": "markdown",
   "metadata": {},
   "source": [
    "# Introduction"
   ]
  },
  {
   "cell_type": "markdown",
   "metadata": {
    "collapsed": true
   },
   "source": [
    "In this project, I aim to further the analysis for my arts and jobs paper. The overall research question is: what drives growth, jobs or amenities? Do people follow jobs or amenities or both? \n",
    "\n",
    "Using regression analysis in the previous paper, I found that arts are drivers of growth. However, it is stronger in some places than others; for example, in more populated areas, or areas with more college graduates. But what really are the underelying variables that would distinguish the influence of the arts in one places than in others? What variables would be more relevant in the jobs and amenities to explain growth? In other words, why are arts where they are?\n",
    "\n",
    "With over 50 control variables available, I would like to know which ones would help describe the changes better than only the main regression variables. And here I use some methods to see what variables could explain the impact of the arts on the growth of jobs. "
   ]
  },
  {
   "cell_type": "code",
   "execution_count": 52,
   "metadata": {
    "collapsed": false
   },
   "outputs": [
    {
     "ename": "ImportError",
     "evalue": "No module named model_selection",
     "output_type": "error",
     "traceback": [
      "\u001b[0;31m---------------------------------------------------------------------------\u001b[0m",
      "\u001b[0;31mImportError\u001b[0m                               Traceback (most recent call last)",
      "\u001b[0;32m<ipython-input-52-6fe3152e83a0>\u001b[0m in \u001b[0;36m<module>\u001b[0;34m()\u001b[0m\n\u001b[1;32m     13\u001b[0m \u001b[0;32mfrom\u001b[0m \u001b[0msklearn\u001b[0m\u001b[0;34m.\u001b[0m\u001b[0mensemble\u001b[0m \u001b[0;32mimport\u001b[0m \u001b[0mRandomForestClassifier\u001b[0m\u001b[0;34m\u001b[0m\u001b[0m\n\u001b[1;32m     14\u001b[0m \u001b[0;32mfrom\u001b[0m \u001b[0msklearn\u001b[0m\u001b[0;34m.\u001b[0m\u001b[0mensemble\u001b[0m \u001b[0;32mimport\u001b[0m \u001b[0mGradientBoostingClassifier\u001b[0m\u001b[0;34m\u001b[0m\u001b[0m\n\u001b[0;32m---> 15\u001b[0;31m \u001b[0;32mfrom\u001b[0m \u001b[0msklearn\u001b[0m\u001b[0;34m.\u001b[0m\u001b[0mmodel_selection\u001b[0m \u001b[0;32mimport\u001b[0m \u001b[0mcross_val_score\u001b[0m\u001b[0;34m\u001b[0m\u001b[0m\n\u001b[0m\u001b[1;32m     16\u001b[0m \u001b[0;32mfrom\u001b[0m \u001b[0msklearn\u001b[0m\u001b[0;34m.\u001b[0m\u001b[0mcluster\u001b[0m \u001b[0;32mimport\u001b[0m \u001b[0mKMeans\u001b[0m\u001b[0;34m,\u001b[0m \u001b[0mDBSCAN\u001b[0m\u001b[0;34m\u001b[0m\u001b[0m\n",
      "\u001b[0;31mImportError\u001b[0m: No module named model_selection"
     ]
    }
   ],
   "source": [
    "%matplotlib inline\n",
    "from collections import Counter\n",
    "import random\n",
    "import numpy as np\n",
    "import matplotlib.pyplot as plt\n",
    "import pandas as pd\n",
    "from sklearn.cluster import KMeans, DBSCAN\n",
    "import seaborn as sns\n",
    "import statsmodels.api as sm\n",
    "import statsmodels.formula.api as smf\n",
    "from sklearn import linear_model, metrics\n",
    "from sklearn.tree import DecisionTreeClassifier\n",
    "from sklearn.ensemble import RandomForestClassifier\n",
    "from sklearn.ensemble import GradientBoostingClassifier\n",
    "from sklearn.model_selection import cross_val_score\n",
    "from sklearn.cluster import KMeans, DBSCAN"
   ]
  },
  {
   "cell_type": "markdown",
   "metadata": {},
   "source": [
    "# The Data"
   ]
  },
  {
   "cell_type": "markdown",
   "metadata": {},
   "source": [
    "The main data show the number of arts and non-arts jobs per zip code. The data is from the County Business Patterns, from the Census, and data ranges from 1998 to 2014. "
   ]
  },
  {
   "cell_type": "code",
   "execution_count": 4,
   "metadata": {
    "collapsed": false
   },
   "outputs": [],
   "source": [
    "#Loading the datafile. This is just a sample of the data. N=500\n",
    "df = pd.read_csv(\"nomiss_sample.csv\")"
   ]
  },
  {
   "cell_type": "code",
   "execution_count": 5,
   "metadata": {
    "collapsed": true
   },
   "outputs": [],
   "source": [
    "# Dropping excessive variables\n",
    "df.drop(['pctba90', 'racediversity90', 'medrent90', 'medhhinc90', 'meantrav90', 'meanlengthres90', 'pctsamehouse90',\n",
    "'pctfemale90', 'pctmarried90', 'pctchild90', 'pctunemp90', 'diversityanc90', 'pctrental90', 'pctpov90', 'pctbike90',\n",
    "'pctdrove90', 'pctwalk90', 'density1990', 'housingdensity1990', 'Pop1990', 'Unnamed: 0','JobsT_1998', 'ArtsW_1998', 'JobsW_1998', \n",
    "'ArtSupport_1998', 'JobsT_1999', 'ArtsW_1999', 'JobsW_1999', 'ArtSupport_1999', 'JobsT_2000', 'ArtsW_2000', 'JobsW_2000',\n",
    " 'ArtSupport_2000', 'JobsT_2001', 'ArtsW_2001', 'JobsW_2001', 'ArtSupport_2001', 'JobsT_2002', 'ArtsW_2002', 'JobsW_2002',\n",
    " 'ArtSupport_2002', 'JobsT_2003', 'ArtsW_2003', 'JobsW_2003', 'ArtSupport_2003', 'JobsT_2004', 'ArtsW_2004', 'JobsW_2004',\n",
    " 'ArtSupport_2004', 'JobsT_2005', 'ArtsW_2005', 'JobsW_2005', 'ArtSupport_2005', 'JobsT_2006', 'ArtsW_2006', 'JobsW_2006',\n",
    " 'ArtSupport_2006', 'JobsT_2007', 'ArtsW_2007', 'JobsW_2007', 'ArtSupport_2007', 'JobsT_2008', 'ArtsW_2008', 'JobsW_2008',\n",
    " 'ArtSupport_2008', 'JobsT_2009', 'ArtsW_2009', 'JobsW_2009', 'ArtSupport_2009', 'JobsT_2010', 'ArtsW_2010', 'JobsW_2010',\n",
    " 'ArtSupport_2010', 'JobsT_2011', 'ArtsW_2011', 'JobsW_2011', 'ArtSupport_2011', 'JobsT_2012', 'ArtsW_2012', 'JobsW_2012',\n",
    " 'ArtSupport_2012', 'JobsT_2013', 'ArtsW_2013', 'JobsW_2013', 'ArtSupport_2013', 'JobsT_2014', 'ArtsW_2014',\n",
    " 'JobsW_2014', 'ArtSupport_2014', 'ARTGOSLG98', 'City', 'State', 'Location', 'zipcode'], axis=1, inplace=True)"
   ]
  },
  {
   "cell_type": "code",
   "execution_count": 6,
   "metadata": {
    "collapsed": true
   },
   "outputs": [
    {
     "data": {
      "text/plain": [
       "['zip',\n",
       " 'ArtsN_1998',\n",
       " 'JobsN_1998',\n",
       " 'ArtsN_1999',\n",
       " 'JobsN_1999',\n",
       " 'ArtsN_2000',\n",
       " 'JobsN_2000',\n",
       " 'ArtsN_2001',\n",
       " 'JobsN_2001',\n",
       " 'ArtsN_2002',\n",
       " 'JobsN_2002',\n",
       " 'ArtsN_2003',\n",
       " 'JobsN_2003',\n",
       " 'ArtsN_2004',\n",
       " 'JobsN_2004',\n",
       " 'ArtsN_2005',\n",
       " 'JobsN_2005',\n",
       " 'ArtsN_2006',\n",
       " 'JobsN_2006',\n",
       " 'ArtsN_2007',\n",
       " 'JobsN_2007',\n",
       " 'ArtsN_2008',\n",
       " 'JobsN_2008',\n",
       " 'ArtsN_2009',\n",
       " 'JobsN_2009',\n",
       " 'ArtsN_2010',\n",
       " 'JobsN_2010',\n",
       " 'ArtsN_2011',\n",
       " 'JobsN_2011',\n",
       " 'ArtsN_2012',\n",
       " 'JobsN_2012',\n",
       " 'ArtsN_2013',\n",
       " 'JobsN_2013',\n",
       " 'ArtsN_2014',\n",
       " 'JobsN_2014',\n",
       " 'MedAge2k',\n",
       " 'pctba2k',\n",
       " 'racediversity2k',\n",
       " 'medrent2k',\n",
       " 'medhhinc2k',\n",
       " 'meantrav2k',\n",
       " 'medlengthres2k',\n",
       " 'pctsamehouse2k',\n",
       " 'pctfemale2k',\n",
       " 'pctmarried2k',\n",
       " 'pctchild2k',\n",
       " 'pctunemp2k',\n",
       " 'diversityfb2k',\n",
       " 'pctrental2k',\n",
       " 'pctpov2k',\n",
       " 'pctbike2k',\n",
       " 'pctdrove2k',\n",
       " 'pctwalk2k',\n",
       " 'density2000',\n",
       " 'housingdensity2000',\n",
       " 'Pop2000',\n",
       " 'RentMed',\n",
       " 'Democ92',\n",
       " 'NonWhite_90',\n",
       " 'CollProfLv90',\n",
       " 'CrimeRate1999county',\n",
       " 'Traditionalistic',\n",
       " 'Self_Expressive',\n",
       " 'Utilitarian',\n",
       " 'Charismatic',\n",
       " 'Egalitarian',\n",
       " 'Neighborly',\n",
       " 'Formality',\n",
       " 'Exhibitionism',\n",
       " 'Glamorous',\n",
       " 'Transgressive',\n",
       " 'Rational',\n",
       " 'Locality',\n",
       " 'State_Scenes',\n",
       " 'Corporateness',\n",
       " 'Ethnicity']"
      ]
     },
     "execution_count": 6,
     "metadata": {},
     "output_type": "execute_result"
    }
   ],
   "source": [
    "#Listing the variables in the data.b\n",
    "list(df.columns.values)"
   ]
  },
  {
   "cell_type": "code",
   "execution_count": 7,
   "metadata": {
    "collapsed": false
   },
   "outputs": [
    {
     "data": {
      "text/plain": [
       "(500, 76)"
      ]
     },
     "execution_count": 7,
     "metadata": {},
     "output_type": "execute_result"
    }
   ],
   "source": [
    "#Number of observations, number of variables\n",
    "df.shape"
   ]
  },
  {
   "cell_type": "markdown",
   "metadata": {},
   "source": [
    "### Variables"
   ]
  },
  {
   "cell_type": "markdown",
   "metadata": {},
   "source": [
    "Below is the description of the 2014 variables for the arts and non-arts jobs. "
   ]
  },
  {
   "cell_type": "code",
   "execution_count": 8,
   "metadata": {
    "collapsed": false
   },
   "outputs": [
    {
     "data": {
      "text/html": [
       "<div>\n",
       "<table border=\"1\" class=\"dataframe\">\n",
       "  <thead>\n",
       "    <tr style=\"text-align: right;\">\n",
       "      <th></th>\n",
       "      <th>zip</th>\n",
       "      <th>ArtsN_1998</th>\n",
       "      <th>JobsN_1998</th>\n",
       "      <th>ArtsN_1999</th>\n",
       "      <th>JobsN_1999</th>\n",
       "      <th>ArtsN_2000</th>\n",
       "      <th>JobsN_2000</th>\n",
       "      <th>ArtsN_2001</th>\n",
       "      <th>JobsN_2001</th>\n",
       "      <th>ArtsN_2002</th>\n",
       "      <th>...</th>\n",
       "      <th>Neighborly</th>\n",
       "      <th>Formality</th>\n",
       "      <th>Exhibitionism</th>\n",
       "      <th>Glamorous</th>\n",
       "      <th>Transgressive</th>\n",
       "      <th>Rational</th>\n",
       "      <th>Locality</th>\n",
       "      <th>State_Scenes</th>\n",
       "      <th>Corporateness</th>\n",
       "      <th>Ethnicity</th>\n",
       "    </tr>\n",
       "  </thead>\n",
       "  <tbody>\n",
       "    <tr>\n",
       "      <th>count</th>\n",
       "      <td>500.000000</td>\n",
       "      <td>500.000000</td>\n",
       "      <td>500.000000</td>\n",
       "      <td>500.000000</td>\n",
       "      <td>500.000000</td>\n",
       "      <td>500.00000</td>\n",
       "      <td>500.000000</td>\n",
       "      <td>500.000000</td>\n",
       "      <td>500.000000</td>\n",
       "      <td>500.000000</td>\n",
       "      <td>...</td>\n",
       "      <td>500.000000</td>\n",
       "      <td>500.000000</td>\n",
       "      <td>500.000000</td>\n",
       "      <td>500.000000</td>\n",
       "      <td>500.000000</td>\n",
       "      <td>500.000000</td>\n",
       "      <td>500.000000</td>\n",
       "      <td>500.000000</td>\n",
       "      <td>500.000000</td>\n",
       "      <td>500.000000</td>\n",
       "    </tr>\n",
       "    <tr>\n",
       "      <th>mean</th>\n",
       "      <td>42583.684000</td>\n",
       "      <td>150.830000</td>\n",
       "      <td>8940.380000</td>\n",
       "      <td>160.466000</td>\n",
       "      <td>9186.372000</td>\n",
       "      <td>167.50600</td>\n",
       "      <td>9387.514000</td>\n",
       "      <td>174.880000</td>\n",
       "      <td>9478.936000</td>\n",
       "      <td>156.222000</td>\n",
       "      <td>...</td>\n",
       "      <td>416.261428</td>\n",
       "      <td>428.190351</td>\n",
       "      <td>425.885760</td>\n",
       "      <td>422.153434</td>\n",
       "      <td>380.971538</td>\n",
       "      <td>406.706685</td>\n",
       "      <td>412.728461</td>\n",
       "      <td>408.390568</td>\n",
       "      <td>432.219519</td>\n",
       "      <td>408.493403</td>\n",
       "    </tr>\n",
       "    <tr>\n",
       "      <th>std</th>\n",
       "      <td>27367.141769</td>\n",
       "      <td>323.254804</td>\n",
       "      <td>9304.431677</td>\n",
       "      <td>342.380288</td>\n",
       "      <td>9650.718247</td>\n",
       "      <td>348.97262</td>\n",
       "      <td>9903.400697</td>\n",
       "      <td>374.091473</td>\n",
       "      <td>10144.184508</td>\n",
       "      <td>305.716112</td>\n",
       "      <td>...</td>\n",
       "      <td>360.998430</td>\n",
       "      <td>373.947893</td>\n",
       "      <td>370.575748</td>\n",
       "      <td>369.627462</td>\n",
       "      <td>333.706941</td>\n",
       "      <td>354.157323</td>\n",
       "      <td>358.124086</td>\n",
       "      <td>356.844095</td>\n",
       "      <td>379.424845</td>\n",
       "      <td>355.585790</td>\n",
       "    </tr>\n",
       "    <tr>\n",
       "      <th>min</th>\n",
       "      <td>1013.000000</td>\n",
       "      <td>3.000000</td>\n",
       "      <td>3.000000</td>\n",
       "      <td>3.000000</td>\n",
       "      <td>3.000000</td>\n",
       "      <td>3.00000</td>\n",
       "      <td>0.000000</td>\n",
       "      <td>3.000000</td>\n",
       "      <td>0.000000</td>\n",
       "      <td>3.000000</td>\n",
       "      <td>...</td>\n",
       "      <td>3.000000</td>\n",
       "      <td>3.000000</td>\n",
       "      <td>3.250000</td>\n",
       "      <td>3.000000</td>\n",
       "      <td>2.750000</td>\n",
       "      <td>3.000000</td>\n",
       "      <td>3.250000</td>\n",
       "      <td>3.000000</td>\n",
       "      <td>3.000000</td>\n",
       "      <td>3.000000</td>\n",
       "    </tr>\n",
       "    <tr>\n",
       "      <th>25%</th>\n",
       "      <td>19117.750000</td>\n",
       "      <td>18.000000</td>\n",
       "      <td>2244.500000</td>\n",
       "      <td>19.000000</td>\n",
       "      <td>2293.250000</td>\n",
       "      <td>19.00000</td>\n",
       "      <td>2319.000000</td>\n",
       "      <td>21.000000</td>\n",
       "      <td>2356.250000</td>\n",
       "      <td>16.000000</td>\n",
       "      <td>...</td>\n",
       "      <td>157.591482</td>\n",
       "      <td>160.247997</td>\n",
       "      <td>160.513941</td>\n",
       "      <td>156.401442</td>\n",
       "      <td>142.726157</td>\n",
       "      <td>154.257560</td>\n",
       "      <td>157.562317</td>\n",
       "      <td>154.322140</td>\n",
       "      <td>160.095709</td>\n",
       "      <td>154.951172</td>\n",
       "    </tr>\n",
       "    <tr>\n",
       "      <th>50%</th>\n",
       "      <td>37897.000000</td>\n",
       "      <td>57.000000</td>\n",
       "      <td>6045.500000</td>\n",
       "      <td>60.000000</td>\n",
       "      <td>6091.500000</td>\n",
       "      <td>67.50000</td>\n",
       "      <td>6141.500000</td>\n",
       "      <td>66.500000</td>\n",
       "      <td>6280.000000</td>\n",
       "      <td>61.000000</td>\n",
       "      <td>...</td>\n",
       "      <td>314.161683</td>\n",
       "      <td>325.698861</td>\n",
       "      <td>322.408153</td>\n",
       "      <td>319.159864</td>\n",
       "      <td>287.851017</td>\n",
       "      <td>308.450483</td>\n",
       "      <td>314.277590</td>\n",
       "      <td>307.687775</td>\n",
       "      <td>326.498743</td>\n",
       "      <td>306.780798</td>\n",
       "    </tr>\n",
       "    <tr>\n",
       "      <th>75%</th>\n",
       "      <td>65377.000000</td>\n",
       "      <td>149.000000</td>\n",
       "      <td>12168.500000</td>\n",
       "      <td>158.000000</td>\n",
       "      <td>12656.250000</td>\n",
       "      <td>171.00000</td>\n",
       "      <td>13150.750000</td>\n",
       "      <td>175.250000</td>\n",
       "      <td>12867.250000</td>\n",
       "      <td>171.500000</td>\n",
       "      <td>...</td>\n",
       "      <td>579.726789</td>\n",
       "      <td>592.038651</td>\n",
       "      <td>588.692797</td>\n",
       "      <td>586.211349</td>\n",
       "      <td>530.333984</td>\n",
       "      <td>563.734064</td>\n",
       "      <td>570.901549</td>\n",
       "      <td>565.753714</td>\n",
       "      <td>597.548034</td>\n",
       "      <td>566.166667</td>\n",
       "    </tr>\n",
       "    <tr>\n",
       "      <th>max</th>\n",
       "      <td>94041.000000</td>\n",
       "      <td>3375.000000</td>\n",
       "      <td>60042.000000</td>\n",
       "      <td>3383.000000</td>\n",
       "      <td>60907.000000</td>\n",
       "      <td>3431.00000</td>\n",
       "      <td>66534.000000</td>\n",
       "      <td>4312.000000</td>\n",
       "      <td>76758.000000</td>\n",
       "      <td>2784.000000</td>\n",
       "      <td>...</td>\n",
       "      <td>2606.951389</td>\n",
       "      <td>2696.743056</td>\n",
       "      <td>2666.812500</td>\n",
       "      <td>2671.302083</td>\n",
       "      <td>2417.640625</td>\n",
       "      <td>2571.034722</td>\n",
       "      <td>2588.244792</td>\n",
       "      <td>2583.755208</td>\n",
       "      <td>2740.890625</td>\n",
       "      <td>2581.510417</td>\n",
       "    </tr>\n",
       "  </tbody>\n",
       "</table>\n",
       "<p>8 rows × 76 columns</p>\n",
       "</div>"
      ],
      "text/plain": [
       "                zip   ArtsN_1998    JobsN_1998   ArtsN_1999    JobsN_1999  \\\n",
       "count    500.000000   500.000000    500.000000   500.000000    500.000000   \n",
       "mean   42583.684000   150.830000   8940.380000   160.466000   9186.372000   \n",
       "std    27367.141769   323.254804   9304.431677   342.380288   9650.718247   \n",
       "min     1013.000000     3.000000      3.000000     3.000000      3.000000   \n",
       "25%    19117.750000    18.000000   2244.500000    19.000000   2293.250000   \n",
       "50%    37897.000000    57.000000   6045.500000    60.000000   6091.500000   \n",
       "75%    65377.000000   149.000000  12168.500000   158.000000  12656.250000   \n",
       "max    94041.000000  3375.000000  60042.000000  3383.000000  60907.000000   \n",
       "\n",
       "       ArtsN_2000    JobsN_2000   ArtsN_2001    JobsN_2001   ArtsN_2002  \\\n",
       "count   500.00000    500.000000   500.000000    500.000000   500.000000   \n",
       "mean    167.50600   9387.514000   174.880000   9478.936000   156.222000   \n",
       "std     348.97262   9903.400697   374.091473  10144.184508   305.716112   \n",
       "min       3.00000      0.000000     3.000000      0.000000     3.000000   \n",
       "25%      19.00000   2319.000000    21.000000   2356.250000    16.000000   \n",
       "50%      67.50000   6141.500000    66.500000   6280.000000    61.000000   \n",
       "75%     171.00000  13150.750000   175.250000  12867.250000   171.500000   \n",
       "max    3431.00000  66534.000000  4312.000000  76758.000000  2784.000000   \n",
       "\n",
       "          ...        Neighborly    Formality  Exhibitionism    Glamorous  \\\n",
       "count     ...        500.000000   500.000000     500.000000   500.000000   \n",
       "mean      ...        416.261428   428.190351     425.885760   422.153434   \n",
       "std       ...        360.998430   373.947893     370.575748   369.627462   \n",
       "min       ...          3.000000     3.000000       3.250000     3.000000   \n",
       "25%       ...        157.591482   160.247997     160.513941   156.401442   \n",
       "50%       ...        314.161683   325.698861     322.408153   319.159864   \n",
       "75%       ...        579.726789   592.038651     588.692797   586.211349   \n",
       "max       ...       2606.951389  2696.743056    2666.812500  2671.302083   \n",
       "\n",
       "       Transgressive     Rational     Locality  State_Scenes  Corporateness  \\\n",
       "count     500.000000   500.000000   500.000000    500.000000     500.000000   \n",
       "mean      380.971538   406.706685   412.728461    408.390568     432.219519   \n",
       "std       333.706941   354.157323   358.124086    356.844095     379.424845   \n",
       "min         2.750000     3.000000     3.250000      3.000000       3.000000   \n",
       "25%       142.726157   154.257560   157.562317    154.322140     160.095709   \n",
       "50%       287.851017   308.450483   314.277590    307.687775     326.498743   \n",
       "75%       530.333984   563.734064   570.901549    565.753714     597.548034   \n",
       "max      2417.640625  2571.034722  2588.244792   2583.755208    2740.890625   \n",
       "\n",
       "         Ethnicity  \n",
       "count   500.000000  \n",
       "mean    408.493403  \n",
       "std     355.585790  \n",
       "min       3.000000  \n",
       "25%     154.951172  \n",
       "50%     306.780798  \n",
       "75%     566.166667  \n",
       "max    2581.510417  \n",
       "\n",
       "[8 rows x 76 columns]"
      ]
     },
     "execution_count": 8,
     "metadata": {},
     "output_type": "execute_result"
    }
   ],
   "source": [
    "df.describe()"
   ]
  },
  {
   "cell_type": "markdown",
   "metadata": {},
   "source": [
    "Some of the main control variables are listed below. The first table shows the core variables, which are from Prof. Clark's Scenes Project. "
   ]
  },
  {
   "cell_type": "markdown",
   "metadata": {},
   "source": [
    "\n",
    "| Variable | Description  |\n",
    "|------|------|\n",
    "| Pop2000 | Population in 2000 |\n",
    "| CrimeRate1999county | Crime Rate in 1999 | \n",
    "| Democ92 | Percent Democrats | \n",
    "| RentMed | Median Rent | \n",
    "| NonWhite_90 | Percent non white population in 1990 |\n",
    "| CollProfLv90 | Percent college graduates in 1990 |"
   ]
  },
  {
   "cell_type": "code",
   "execution_count": 20,
   "metadata": {
    "collapsed": false
   },
   "outputs": [
    {
     "data": {
      "text/html": [
       "<div>\n",
       "<table border=\"1\" class=\"dataframe\">\n",
       "  <thead>\n",
       "    <tr style=\"text-align: right;\">\n",
       "      <th></th>\n",
       "      <th>Pop2000</th>\n",
       "      <th>CrimeRate1999county</th>\n",
       "      <th>Democ92</th>\n",
       "      <th>RentMed</th>\n",
       "      <th>NonWhite_90</th>\n",
       "      <th>CollProfLv90</th>\n",
       "    </tr>\n",
       "  </thead>\n",
       "  <tbody>\n",
       "    <tr>\n",
       "      <th>count</th>\n",
       "      <td>500.000000</td>\n",
       "      <td>500.000000</td>\n",
       "      <td>500.000000</td>\n",
       "      <td>500.000000</td>\n",
       "      <td>500.000000</td>\n",
       "      <td>500.000000</td>\n",
       "    </tr>\n",
       "    <tr>\n",
       "      <th>mean</th>\n",
       "      <td>19636.284000</td>\n",
       "      <td>4172.196000</td>\n",
       "      <td>41.663600</td>\n",
       "      <td>445.226000</td>\n",
       "      <td>3123.410000</td>\n",
       "      <td>0.227264</td>\n",
       "    </tr>\n",
       "    <tr>\n",
       "      <th>std</th>\n",
       "      <td>14427.529156</td>\n",
       "      <td>2113.478098</td>\n",
       "      <td>9.440388</td>\n",
       "      <td>131.011614</td>\n",
       "      <td>5221.593264</td>\n",
       "      <td>0.137318</td>\n",
       "    </tr>\n",
       "    <tr>\n",
       "      <th>min</th>\n",
       "      <td>169.000000</td>\n",
       "      <td>151.000000</td>\n",
       "      <td>17.100000</td>\n",
       "      <td>199.000000</td>\n",
       "      <td>0.000000</td>\n",
       "      <td>0.031375</td>\n",
       "    </tr>\n",
       "    <tr>\n",
       "      <th>25%</th>\n",
       "      <td>7965.250000</td>\n",
       "      <td>2522.750000</td>\n",
       "      <td>35.500000</td>\n",
       "      <td>345.750000</td>\n",
       "      <td>177.750000</td>\n",
       "      <td>0.125387</td>\n",
       "    </tr>\n",
       "    <tr>\n",
       "      <th>50%</th>\n",
       "      <td>16361.000000</td>\n",
       "      <td>3695.000000</td>\n",
       "      <td>40.300000</td>\n",
       "      <td>424.000000</td>\n",
       "      <td>997.000000</td>\n",
       "      <td>0.184616</td>\n",
       "    </tr>\n",
       "    <tr>\n",
       "      <th>75%</th>\n",
       "      <td>27855.250000</td>\n",
       "      <td>5653.000000</td>\n",
       "      <td>47.000000</td>\n",
       "      <td>522.000000</td>\n",
       "      <td>3429.750000</td>\n",
       "      <td>0.291245</td>\n",
       "    </tr>\n",
       "    <tr>\n",
       "      <th>max</th>\n",
       "      <td>74948.000000</td>\n",
       "      <td>9834.000000</td>\n",
       "      <td>84.600000</td>\n",
       "      <td>834.000000</td>\n",
       "      <td>38284.000000</td>\n",
       "      <td>0.753073</td>\n",
       "    </tr>\n",
       "  </tbody>\n",
       "</table>\n",
       "</div>"
      ],
      "text/plain": [
       "            Pop2000  CrimeRate1999county     Democ92     RentMed  \\\n",
       "count    500.000000           500.000000  500.000000  500.000000   \n",
       "mean   19636.284000          4172.196000   41.663600  445.226000   \n",
       "std    14427.529156          2113.478098    9.440388  131.011614   \n",
       "min      169.000000           151.000000   17.100000  199.000000   \n",
       "25%     7965.250000          2522.750000   35.500000  345.750000   \n",
       "50%    16361.000000          3695.000000   40.300000  424.000000   \n",
       "75%    27855.250000          5653.000000   47.000000  522.000000   \n",
       "max    74948.000000          9834.000000   84.600000  834.000000   \n",
       "\n",
       "        NonWhite_90  CollProfLv90  \n",
       "count    500.000000    500.000000  \n",
       "mean    3123.410000      0.227264  \n",
       "std     5221.593264      0.137318  \n",
       "min        0.000000      0.031375  \n",
       "25%      177.750000      0.125387  \n",
       "50%      997.000000      0.184616  \n",
       "75%     3429.750000      0.291245  \n",
       "max    38284.000000      0.753073  "
      ]
     },
     "execution_count": 20,
     "metadata": {},
     "output_type": "execute_result"
    }
   ],
   "source": [
    "# Describing the variables\n",
    "df[['Pop2000', 'CrimeRate1999county', 'Democ92', 'RentMed', 'NonWhite_90', 'CollProfLv90']].describe()"
   ]
  },
  {
   "cell_type": "markdown",
   "metadata": {},
   "source": [
    "The table below shows the Scenes variables, which are decoded into 15 dimensions. These variables were made by coders, who gave a score from 1 to 5 on each dimension based on the type of neighborhood (zip code), and them summed. The coders followed a series of guidelines, but mostly trying to answer the question: does an amenity’s vitality and energy comes from the way it embodies this sub-category? Coding whether an amenity positively or negatively indicated the concrete presence of the sub-category.\n",
    "\n",
    "The INT variables mean \"intensity\"; the AP variables mean \"amenities performance\". The DP variables are overall performance measures. \n",
    "\n",
    "I focus on the amenities performance (AP) variables. "
   ]
  },
  {
   "cell_type": "markdown",
   "metadata": {},
   "source": [
    "| Scenes Dimension | Type | Measurement Level | Description (Values) | \n",
    "|------|------|\n",
    " | Traditionalistic | Numeric | Scale | Appeals to heritage and the past | \n",
    " | Self_expressive | Numeric | Scale | Unique, personal, expression | \n",
    "| Utilitarian | Numeric | Scale | Usefulness of its amenities | \n",
    "| Charismatic | Numeric | Scale | In the presence of an exceptional personality | \n",
    " | Egalitarian | Numeric | Scale | Universal equality, treating others non-strategically |\n",
    " | Neighborly | Numeric | Scale | Closeness, personal networks, face-to-face interactions | \n",
    " | Formality | Numeric | Scale | Fitting into established patterns of social etiquette |\n",
    "| Exhibitionism | Numeric | Scale | Encourage looking at others and being looked by them in turn |\n",
    " | Glamorous | Numeric | Scale | Charm, allure, star power, status | \n",
    " | Transgressive | Numeric | Scale | Revel in shocking others and associating with equally shocking others |\n",
    " | Rational | Numeric | Scale | Power to choose one's own fate (organic or planned growth)| \n",
    "| Locality | Numeric | Scale | Feeling rooted in a place | \n",
    "| State | Numeric | Scale | Role of the State in shaping one's identity | \n",
    " | Corporateness | Numeric | Scale | Corporations as social power that shape identity | \n",
    " | Ethnicity | Numeric | Scale | Shape of pre-reflective identity | "
   ]
  },
  {
   "cell_type": "code",
   "execution_count": 9,
   "metadata": {
    "collapsed": false
   },
   "outputs": [
    {
     "data": {
      "text/html": [
       "<div>\n",
       "<table border=\"1\" class=\"dataframe\">\n",
       "  <thead>\n",
       "    <tr style=\"text-align: right;\">\n",
       "      <th></th>\n",
       "      <th>Traditionalistic</th>\n",
       "      <th>Self_Expressive</th>\n",
       "      <th>Utilitarian</th>\n",
       "      <th>Charismatic</th>\n",
       "      <th>Egalitarian</th>\n",
       "      <th>Neighborly</th>\n",
       "      <th>Formality</th>\n",
       "      <th>Exhibitionism</th>\n",
       "      <th>Glamorous</th>\n",
       "      <th>Transgressive</th>\n",
       "      <th>Rational</th>\n",
       "      <th>Locality</th>\n",
       "      <th>State_Scenes</th>\n",
       "      <th>Corporateness</th>\n",
       "      <th>Ethnicity</th>\n",
       "    </tr>\n",
       "  </thead>\n",
       "  <tbody>\n",
       "    <tr>\n",
       "      <th>count</th>\n",
       "      <td>500.000000</td>\n",
       "      <td>500.000000</td>\n",
       "      <td>500.000000</td>\n",
       "      <td>500.000000</td>\n",
       "      <td>500.000000</td>\n",
       "      <td>500.000000</td>\n",
       "      <td>500.000000</td>\n",
       "      <td>500.000000</td>\n",
       "      <td>500.000000</td>\n",
       "      <td>500.000000</td>\n",
       "      <td>500.000000</td>\n",
       "      <td>500.000000</td>\n",
       "      <td>500.000000</td>\n",
       "      <td>500.000000</td>\n",
       "      <td>500.000000</td>\n",
       "    </tr>\n",
       "    <tr>\n",
       "      <th>mean</th>\n",
       "      <td>417.377171</td>\n",
       "      <td>434.301216</td>\n",
       "      <td>392.292006</td>\n",
       "      <td>437.808753</td>\n",
       "      <td>418.064375</td>\n",
       "      <td>416.261428</td>\n",
       "      <td>428.190351</td>\n",
       "      <td>425.885760</td>\n",
       "      <td>422.153434</td>\n",
       "      <td>380.971538</td>\n",
       "      <td>406.706685</td>\n",
       "      <td>412.728461</td>\n",
       "      <td>408.390568</td>\n",
       "      <td>432.219519</td>\n",
       "      <td>408.493403</td>\n",
       "    </tr>\n",
       "    <tr>\n",
       "      <th>std</th>\n",
       "      <td>363.143478</td>\n",
       "      <td>382.261930</td>\n",
       "      <td>343.281785</td>\n",
       "      <td>385.144623</td>\n",
       "      <td>363.300658</td>\n",
       "      <td>360.998430</td>\n",
       "      <td>373.947893</td>\n",
       "      <td>370.575748</td>\n",
       "      <td>369.627462</td>\n",
       "      <td>333.706941</td>\n",
       "      <td>354.157323</td>\n",
       "      <td>358.124086</td>\n",
       "      <td>356.844095</td>\n",
       "      <td>379.424845</td>\n",
       "      <td>355.585790</td>\n",
       "    </tr>\n",
       "    <tr>\n",
       "      <th>min</th>\n",
       "      <td>3.250000</td>\n",
       "      <td>3.000000</td>\n",
       "      <td>2.500000</td>\n",
       "      <td>3.000000</td>\n",
       "      <td>3.000000</td>\n",
       "      <td>3.000000</td>\n",
       "      <td>3.000000</td>\n",
       "      <td>3.250000</td>\n",
       "      <td>3.000000</td>\n",
       "      <td>2.750000</td>\n",
       "      <td>3.000000</td>\n",
       "      <td>3.250000</td>\n",
       "      <td>3.000000</td>\n",
       "      <td>3.000000</td>\n",
       "      <td>3.000000</td>\n",
       "    </tr>\n",
       "    <tr>\n",
       "      <th>25%</th>\n",
       "      <td>156.508065</td>\n",
       "      <td>161.685847</td>\n",
       "      <td>145.027920</td>\n",
       "      <td>163.102697</td>\n",
       "      <td>158.646925</td>\n",
       "      <td>157.591482</td>\n",
       "      <td>160.247997</td>\n",
       "      <td>160.513941</td>\n",
       "      <td>156.401442</td>\n",
       "      <td>142.726157</td>\n",
       "      <td>154.257560</td>\n",
       "      <td>157.562317</td>\n",
       "      <td>154.322140</td>\n",
       "      <td>160.095709</td>\n",
       "      <td>154.951172</td>\n",
       "    </tr>\n",
       "    <tr>\n",
       "      <th>50%</th>\n",
       "      <td>315.884978</td>\n",
       "      <td>325.950581</td>\n",
       "      <td>297.807432</td>\n",
       "      <td>331.497271</td>\n",
       "      <td>318.198931</td>\n",
       "      <td>314.161683</td>\n",
       "      <td>325.698861</td>\n",
       "      <td>322.408153</td>\n",
       "      <td>319.159864</td>\n",
       "      <td>287.851017</td>\n",
       "      <td>308.450483</td>\n",
       "      <td>314.277590</td>\n",
       "      <td>307.687775</td>\n",
       "      <td>326.498743</td>\n",
       "      <td>306.780798</td>\n",
       "    </tr>\n",
       "    <tr>\n",
       "      <th>75%</th>\n",
       "      <td>576.197917</td>\n",
       "      <td>602.285330</td>\n",
       "      <td>542.777123</td>\n",
       "      <td>611.772682</td>\n",
       "      <td>581.017506</td>\n",
       "      <td>579.726789</td>\n",
       "      <td>592.038651</td>\n",
       "      <td>588.692797</td>\n",
       "      <td>586.211349</td>\n",
       "      <td>530.333984</td>\n",
       "      <td>563.734064</td>\n",
       "      <td>570.901549</td>\n",
       "      <td>565.753714</td>\n",
       "      <td>597.548034</td>\n",
       "      <td>566.166667</td>\n",
       "    </tr>\n",
       "    <tr>\n",
       "      <th>max</th>\n",
       "      <td>2615.182292</td>\n",
       "      <td>2756.604167</td>\n",
       "      <td>2498.453125</td>\n",
       "      <td>2792.520833</td>\n",
       "      <td>2615.182292</td>\n",
       "      <td>2606.951389</td>\n",
       "      <td>2696.743056</td>\n",
       "      <td>2666.812500</td>\n",
       "      <td>2671.302083</td>\n",
       "      <td>2417.640625</td>\n",
       "      <td>2571.034722</td>\n",
       "      <td>2588.244792</td>\n",
       "      <td>2583.755208</td>\n",
       "      <td>2740.890625</td>\n",
       "      <td>2581.510417</td>\n",
       "    </tr>\n",
       "  </tbody>\n",
       "</table>\n",
       "</div>"
      ],
      "text/plain": [
       "       Traditionalistic  Self_Expressive  Utilitarian  Charismatic  \\\n",
       "count        500.000000       500.000000   500.000000   500.000000   \n",
       "mean         417.377171       434.301216   392.292006   437.808753   \n",
       "std          363.143478       382.261930   343.281785   385.144623   \n",
       "min            3.250000         3.000000     2.500000     3.000000   \n",
       "25%          156.508065       161.685847   145.027920   163.102697   \n",
       "50%          315.884978       325.950581   297.807432   331.497271   \n",
       "75%          576.197917       602.285330   542.777123   611.772682   \n",
       "max         2615.182292      2756.604167  2498.453125  2792.520833   \n",
       "\n",
       "       Egalitarian   Neighborly    Formality  Exhibitionism    Glamorous  \\\n",
       "count   500.000000   500.000000   500.000000     500.000000   500.000000   \n",
       "mean    418.064375   416.261428   428.190351     425.885760   422.153434   \n",
       "std     363.300658   360.998430   373.947893     370.575748   369.627462   \n",
       "min       3.000000     3.000000     3.000000       3.250000     3.000000   \n",
       "25%     158.646925   157.591482   160.247997     160.513941   156.401442   \n",
       "50%     318.198931   314.161683   325.698861     322.408153   319.159864   \n",
       "75%     581.017506   579.726789   592.038651     588.692797   586.211349   \n",
       "max    2615.182292  2606.951389  2696.743056    2666.812500  2671.302083   \n",
       "\n",
       "       Transgressive     Rational     Locality  State_Scenes  Corporateness  \\\n",
       "count     500.000000   500.000000   500.000000    500.000000     500.000000   \n",
       "mean      380.971538   406.706685   412.728461    408.390568     432.219519   \n",
       "std       333.706941   354.157323   358.124086    356.844095     379.424845   \n",
       "min         2.750000     3.000000     3.250000      3.000000       3.000000   \n",
       "25%       142.726157   154.257560   157.562317    154.322140     160.095709   \n",
       "50%       287.851017   308.450483   314.277590    307.687775     326.498743   \n",
       "75%       530.333984   563.734064   570.901549    565.753714     597.548034   \n",
       "max      2417.640625  2571.034722  2588.244792   2583.755208    2740.890625   \n",
       "\n",
       "         Ethnicity  \n",
       "count   500.000000  \n",
       "mean    408.493403  \n",
       "std     355.585790  \n",
       "min       3.000000  \n",
       "25%     154.951172  \n",
       "50%     306.780798  \n",
       "75%     566.166667  \n",
       "max    2581.510417  "
      ]
     },
     "execution_count": 9,
     "metadata": {},
     "output_type": "execute_result"
    }
   ],
   "source": [
    "df[['Traditionalistic','Self_Expressive', 'Utilitarian', 'Charismatic', 'Egalitarian', 'Neighborly', 'Formality',\n",
    "'Exhibitionism', 'Glamorous', 'Transgressive', 'Rational', 'Locality', 'State_Scenes', 'Corporateness', 'Ethnicity']].describe()"
   ]
  },
  {
   "cell_type": "markdown",
   "metadata": {},
   "source": [
    "Other variables of interest are from the Geolytics database, also in the zip code level. Some variables are described in the table below. "
   ]
  },
  {
   "cell_type": "markdown",
   "metadata": {},
   "source": [
    "| Variable | Type | Measurement Level | Description  | \n",
    "|------|------|\n",
    "| pctba2k  | Numeric | Scale | Percent Graduated Bachelor Degree in 2000 |\n",
    "| pctrental2k | Numeric | Scale | Percent Rentals in 2000 | \n",
    "| pctmarried2k | Numeric | Scale | Percent of population 15 years and older, married, 2000 | \n",
    "| pctchild2k | Numeric | Scale | Percentage of households with children 0-17, 2000 | \n",
    "| racediversity2k | Numeric | Scale | Racial diversity index, 2000 |\n",
    "| medrent2k | Numeric | Scale | Median Gross Rent, 2000 | \n",
    "| medhhinc2k | Numeric | Scale | Median Household Income, 2000 |\n",
    "| meantrav2k | Numeric | Scale | Mean travel time to work in minutes, 2000 |\n",
    "| medlengthres2k | Numeric | Scale | Median length of residence in housing unit, 2000 |\n",
    "| pctsamehouse2k | Numeric | Scale | Percentage living in same house, from 1995 to 2000 |\n",
    "| pctfemale2k | Numeric | Scale | Percentage female, 2000 | \n",
    "| pctunemp2k | Numeric | Scale | Percentage of unemployed labor force, 2000 |\n",
    "| diversityfb2k | Numeric | Scale | Foreign born diversity index, 2000 |\n",
    "| pctpov2k | Numeric | Scale | Percentage population below poverty level, 2000 |\n",
    "| pctwalk2k | Numeric | Scale | Percent of people who walk in 2000 | \n",
    "| pctbike2k | Numeric | Scale | Percentage biked to work, 2000 |\n",
    "| pctdrove2k | Numeric | Scale | Percentage drove to work, 2000 |\n",
    "| density2000 | Numeric | Scale | Population density, 2000 |\n",
    "| housingdensity2000 | Numeric | Scale | Housing density, 2000 |"
   ]
  },
  {
   "cell_type": "code",
   "execution_count": 10,
   "metadata": {
    "collapsed": false,
    "scrolled": true
   },
   "outputs": [
    {
     "data": {
      "text/html": [
       "<div>\n",
       "<table border=\"1\" class=\"dataframe\">\n",
       "  <thead>\n",
       "    <tr style=\"text-align: right;\">\n",
       "      <th></th>\n",
       "      <th>pctba2k</th>\n",
       "      <th>pctrental2k</th>\n",
       "      <th>pctmarried2k</th>\n",
       "      <th>pctwalk2k</th>\n",
       "      <th>pctchild2k</th>\n",
       "    </tr>\n",
       "  </thead>\n",
       "  <tbody>\n",
       "    <tr>\n",
       "      <th>count</th>\n",
       "      <td>500.000000</td>\n",
       "      <td>500.000000</td>\n",
       "      <td>500.000000</td>\n",
       "      <td>500.000000</td>\n",
       "      <td>500.000000</td>\n",
       "    </tr>\n",
       "    <tr>\n",
       "      <th>mean</th>\n",
       "      <td>26.909316</td>\n",
       "      <td>30.812538</td>\n",
       "      <td>57.934490</td>\n",
       "      <td>2.806996</td>\n",
       "      <td>32.991680</td>\n",
       "    </tr>\n",
       "    <tr>\n",
       "      <th>std</th>\n",
       "      <td>15.625101</td>\n",
       "      <td>16.516941</td>\n",
       "      <td>8.762532</td>\n",
       "      <td>4.169013</td>\n",
       "      <td>7.813197</td>\n",
       "    </tr>\n",
       "    <tr>\n",
       "      <th>min</th>\n",
       "      <td>3.491858</td>\n",
       "      <td>1.749781</td>\n",
       "      <td>26.544868</td>\n",
       "      <td>0.000000</td>\n",
       "      <td>4.219409</td>\n",
       "    </tr>\n",
       "    <tr>\n",
       "      <th>25%</th>\n",
       "      <td>14.615629</td>\n",
       "      <td>20.080954</td>\n",
       "      <td>52.874223</td>\n",
       "      <td>1.005617</td>\n",
       "      <td>28.356874</td>\n",
       "    </tr>\n",
       "    <tr>\n",
       "      <th>50%</th>\n",
       "      <td>22.620498</td>\n",
       "      <td>27.171007</td>\n",
       "      <td>59.766381</td>\n",
       "      <td>1.788778</td>\n",
       "      <td>32.748370</td>\n",
       "    </tr>\n",
       "    <tr>\n",
       "      <th>75%</th>\n",
       "      <td>36.713185</td>\n",
       "      <td>37.722073</td>\n",
       "      <td>63.815563</td>\n",
       "      <td>3.320211</td>\n",
       "      <td>37.598388</td>\n",
       "    </tr>\n",
       "    <tr>\n",
       "      <th>max</th>\n",
       "      <td>89.264582</td>\n",
       "      <td>93.349726</td>\n",
       "      <td>78.486029</td>\n",
       "      <td>61.007958</td>\n",
       "      <td>59.903148</td>\n",
       "    </tr>\n",
       "  </tbody>\n",
       "</table>\n",
       "</div>"
      ],
      "text/plain": [
       "          pctba2k  pctrental2k  pctmarried2k   pctwalk2k  pctchild2k\n",
       "count  500.000000   500.000000    500.000000  500.000000  500.000000\n",
       "mean    26.909316    30.812538     57.934490    2.806996   32.991680\n",
       "std     15.625101    16.516941      8.762532    4.169013    7.813197\n",
       "min      3.491858     1.749781     26.544868    0.000000    4.219409\n",
       "25%     14.615629    20.080954     52.874223    1.005617   28.356874\n",
       "50%     22.620498    27.171007     59.766381    1.788778   32.748370\n",
       "75%     36.713185    37.722073     63.815563    3.320211   37.598388\n",
       "max     89.264582    93.349726     78.486029   61.007958   59.903148"
      ]
     },
     "execution_count": 10,
     "metadata": {},
     "output_type": "execute_result"
    }
   ],
   "source": [
    "df[['pctba2k', 'pctrental2k', 'pctmarried2k', 'pctwalk2k', 'pctchild2k']].describe()"
   ]
  },
  {
   "cell_type": "markdown",
   "metadata": {},
   "source": [
    "### Creating a change variables for the arts"
   ]
  },
  {
   "cell_type": "code",
   "execution_count": 11,
   "metadata": {
    "collapsed": false
   },
   "outputs": [],
   "source": [
    "df['arts_change'] = df['ArtsN_2014'] - df['ArtsN_1998']"
   ]
  },
  {
   "cell_type": "markdown",
   "metadata": {},
   "source": [
    "## Plots"
   ]
  },
  {
   "cell_type": "code",
   "execution_count": 14,
   "metadata": {
    "collapsed": false,
    "scrolled": true
   },
   "outputs": [
    {
     "data": {
      "image/png": "[encoded data removed]",
      "text/plain": [
       "<matplotlib.figure.Figure at 0x1177268d0>"
      ]
     },
     "metadata": {},
     "output_type": "display_data"
    }
   ],
   "source": [
    "sns.lmplot(x=\"ArtsN_2014\", y=\"JobsN_2014\", data=df)\n",
    "sns.plt.show()"
   ]
  },
  {
   "cell_type": "markdown",
   "metadata": {},
   "source": [
    "# Models"
   ]
  },
  {
   "cell_type": "markdown",
   "metadata": {},
   "source": [
    "Differently from the analysis on the paper, in this project, the research question is: why are arts where they are? What makes some places more attractive for the arts than others?\n",
    "\n",
    "1. Simplest regression model\n",
    "2. Cross validation\n",
    "3. Decision trees\n",
    "4. Random forest\n",
    "5. Cluster Analysis\n",
    "6. Autocorrelation\n",
    "7. Time Series"
   ]
  },
  {
   "cell_type": "markdown",
   "metadata": {},
   "source": [
    "## Simplest Regression Model"
   ]
  },
  {
   "cell_type": "code",
   "execution_count": 17,
   "metadata": {
    "collapsed": false
   },
   "outputs": [
    {
     "name": "stdout",
     "output_type": "stream",
     "text": [
      "                            OLS Regression Results                            \n",
      "==============================================================================\n",
      "Dep. Variable:             ArtsN_2014   R-squared:                       0.564\n",
      "Model:                            OLS   Adj. R-squared:                  0.562\n",
      "Method:                 Least Squares   F-statistic:                     214.3\n",
      "Date:                Mon, 21 Nov 2016   Prob (F-statistic):           4.04e-89\n",
      "Time:                        23:29:08   Log-Likelihood:                -3434.3\n",
      "No. Observations:                 500   AIC:                             6877.\n",
      "Df Residuals:                     496   BIC:                             6893.\n",
      "Df Model:                           3                                         \n",
      "Covariance Type:            nonrobust                                         \n",
      "================================================================================\n",
      "                   coef    std err          t      P>|t|      [95.0% Conf. Int.]\n",
      "--------------------------------------------------------------------------------\n",
      "const          -59.4785     21.761     -2.733      0.006      -102.233   -16.724\n",
      "JobsN_1998       0.0078      0.001      6.057      0.000         0.005     0.010\n",
      "ArtsN_1998       0.6265      0.038     16.467      0.000         0.552     0.701\n",
      "CollProfLv90   368.2489     79.937      4.607      0.000       211.193   525.305\n",
      "==============================================================================\n",
      "Omnibus:                      221.209   Durbin-Watson:                   2.083\n",
      "Prob(Omnibus):                  0.000   Jarque-Bera (JB):            25408.429\n",
      "Skew:                           0.876   Prob(JB):                         0.00\n",
      "Kurtosis:                      37.879   Cond. No.                     1.01e+05\n",
      "==============================================================================\n",
      "\n",
      "Warnings:\n",
      "[1] Standard Errors assume that the covariance matrix of the errors is correctly specified.\n",
      "[2] The condition number is large, 1.01e+05. This might indicate that there are\n",
      "strong multicollinearity or other numerical problems.\n"
     ]
    }
   ],
   "source": [
    "# Using sklearn to run the simple regression model with education\n",
    "# Does education have any influence in the growth of arts?\n",
    "\n",
    "from sklearn import linear_model\n",
    "\n",
    "X = df[[\"JobsN_1998\", \"ArtsN_1998\", \"CollProfLv90\"]]\n",
    "X = sm.add_constant(X)\n",
    "y = df[\"ArtsN_2014\"]\n",
    "\n",
    "# Fit the linear model\n",
    "model = linear_model.LinearRegression()\n",
    "results = model.fit(X, y)\n",
    "\n",
    "# Note the swap of X and y\n",
    "model = sm.OLS(y, X)\n",
    "results = model.fit()\n",
    "# Statsmodels gives R-like statistical output\n",
    "print(results.summary())"
   ]
  },
  {
   "cell_type": "markdown",
   "metadata": {},
   "source": [
    "Since all three independent variables are significant, we can assume that education, non-arts jobs, and the arts had an impact in the growth of arts; with education having the highest impact of all three."
   ]
  },
  {
   "cell_type": "markdown",
   "metadata": {},
   "source": [
    "## Cross Validation"
   ]
  },
  {
   "cell_type": "code",
   "execution_count": 18,
   "metadata": {
    "collapsed": true
   },
   "outputs": [],
   "source": [
    "# Defining variables\n",
    "X = df[[\"JobsN_1998\", \"ArtsN_1998\", \"CollProfLv90\", \"CrimeRate1999county\", \"Democ92\", \"RentMed\", \"NonWhite_90\"]]\n",
    "y = df[\"ArtsN_2014\"]"
   ]
  },
  {
   "cell_type": "code",
   "execution_count": 19,
   "metadata": {
    "collapsed": false
   },
   "outputs": [
    {
     "name": "stdout",
     "output_type": "stream",
     "text": [
      "                            OLS Regression Results                            \n",
      "==============================================================================\n",
      "Dep. Variable:             ArtsN_2014   R-squared:                       0.663\n",
      "Model:                            OLS   Adj. R-squared:                  0.658\n",
      "Method:                 Least Squares   F-statistic:                     138.5\n",
      "Date:                Mon, 21 Nov 2016   Prob (F-statistic):          3.91e-112\n",
      "Time:                        23:29:29   Log-Likelihood:                -3432.8\n",
      "No. Observations:                 500   AIC:                             6880.\n",
      "Df Residuals:                     493   BIC:                             6909.\n",
      "Df Model:                           7                                         \n",
      "Covariance Type:            nonrobust                                         \n",
      "=======================================================================================\n",
      "                          coef    std err          t      P>|t|      [95.0% Conf. Int.]\n",
      "---------------------------------------------------------------------------------------\n",
      "JobsN_1998              0.0074      0.001      5.437      0.000         0.005     0.010\n",
      "ArtsN_1998              0.6345      0.038     16.672      0.000         0.560     0.709\n",
      "CollProfLv90          361.6466     93.444      3.870      0.000       178.049   545.244\n",
      "CrimeRate1999county     0.0093      0.005      1.709      0.088        -0.001     0.020\n",
      "Democ92                -1.6450      0.868     -1.894      0.059        -3.351     0.061\n",
      "RentMed                -0.0411      0.078     -0.527      0.599        -0.194     0.112\n",
      "NonWhite_90            -0.0018      0.002     -0.806      0.421        -0.006     0.003\n",
      "==============================================================================\n",
      "Omnibus:                      222.017   Durbin-Watson:                   2.085\n",
      "Prob(Omnibus):                  0.000   Jarque-Bera (JB):            25189.334\n",
      "Skew:                           0.887   Prob(JB):                         0.00\n",
      "Kurtosis:                      37.727   Cond. No.                     1.24e+05\n",
      "==============================================================================\n",
      "\n",
      "Warnings:\n",
      "[1] Standard Errors assume that the covariance matrix of the errors is correctly specified.\n",
      "[2] The condition number is large, 1.24e+05. This might indicate that there are\n",
      "strong multicollinearity or other numerical problems.\n"
     ]
    }
   ],
   "source": [
    "# Fit the linear model\n",
    "model = linear_model.LinearRegression()\n",
    "results = model.fit(X, y)\n",
    "\n",
    "# Note the swap of X and y\n",
    "model = sm.OLS(y, X)\n",
    "results = model.fit()\n",
    "# Statsmodels gives R-like statistical output\n",
    "print(results.summary())"
   ]
  },
  {
   "cell_type": "markdown",
   "metadata": {},
   "source": [
    "Setting up the cross-validation method for 5 folds, on the data with the core variables."
   ]
  },
  {
   "cell_type": "code",
   "execution_count": 20,
   "metadata": {
    "collapsed": false
   },
   "outputs": [],
   "source": [
    "from sklearn import cross_validation\n",
    "kf = cross_validation.KFold(len(df), n_folds=5, shuffle=True)"
   ]
  },
  {
   "cell_type": "code",
   "execution_count": 21,
   "metadata": {
    "collapsed": false
   },
   "outputs": [
    {
     "name": "stdout",
     "output_type": "stream",
     "text": [
      "~~~~ CROSS VALIDATION each fold ~~~~\n",
      "Model 1\n",
      "MSE: 179876.318826\n",
      "R2: 0.549944612542\n",
      "Model 2\n",
      "MSE: 12524.6641032\n",
      "R2: 0.567474188118\n",
      "Model 3\n",
      "MSE: 51647.044428\n",
      "R2: 0.559519802342\n",
      "Model 4\n",
      "MSE: 25691.0634318\n",
      "R2: 0.564608593752\n",
      "Model 5\n",
      "MSE: 33864.6934279\n",
      "R2: 0.565743308396\n",
      "~~~~ SUMMARY OF CROSS VALIDATION ~~~~\n",
      "Mean of MSE for all folds: 60720.7568433\n",
      "Mean of R2 for all folds: 0.56145810103\n"
     ]
    }
   ],
   "source": [
    "mse_values = []\n",
    "scores = []\n",
    "n= 0\n",
    "print \"~~~~ CROSS VALIDATION each fold ~~~~\"\n",
    "for train_index, test_index in kf:\n",
    "    lm = linear_model.LinearRegression().fit(X.iloc[train_index], y.iloc[train_index])\n",
    "    mse_values.append(metrics.mean_squared_error(y.iloc[test_index], lm.predict(X.iloc[test_index])))\n",
    "    scores.append(lm.score(X, y))\n",
    "    n+=1\n",
    "    print 'Model', n\n",
    "    print 'MSE:', mse_values[n-1]\n",
    "    print 'R2:', scores[n-1]\n",
    "\n",
    "\n",
    "print \"~~~~ SUMMARY OF CROSS VALIDATION ~~~~\"\n",
    "print 'Mean of MSE for all folds:', np.mean(mse_values)\n",
    "print 'Mean of R2 for all folds:', np.mean(scores)"
   ]
  },
  {
   "cell_type": "markdown",
   "metadata": {},
   "source": [
    "## Models with Scenes Dimensions"
   ]
  },
  {
   "cell_type": "code",
   "execution_count": 22,
   "metadata": {
    "collapsed": false,
    "scrolled": true
   },
   "outputs": [
    {
     "name": "stdout",
     "output_type": "stream",
     "text": [
      "                            OLS Regression Results                            \n",
      "==============================================================================\n",
      "Dep. Variable:             ArtsN_2014   R-squared:                       0.643\n",
      "Model:                            OLS   Adj. R-squared:                  0.631\n",
      "Method:                 Least Squares   F-statistic:                     51.10\n",
      "Date:                Mon, 21 Nov 2016   Prob (F-statistic):           3.11e-96\n",
      "Time:                        23:29:38   Log-Likelihood:                -3384.5\n",
      "No. Observations:                 500   AIC:                             6805.\n",
      "Df Residuals:                     482   BIC:                             6881.\n",
      "Df Model:                          17                                         \n",
      "Covariance Type:            nonrobust                                         \n",
      "====================================================================================\n",
      "                       coef    std err          t      P>|t|      [95.0% Conf. Int.]\n",
      "------------------------------------------------------------------------------------\n",
      "const              -43.2552     20.117     -2.150      0.032       -82.783    -3.728\n",
      "JobsN_1998          -0.0026      0.002     -1.325      0.186        -0.007     0.001\n",
      "ArtsN_1998           0.4944      0.038     12.904      0.000         0.419     0.570\n",
      "Traditionalistic   -12.7938      4.831     -2.648      0.008       -22.286    -3.302\n",
      "Self_Expressive      4.7740      3.063      1.559      0.120        -1.244    10.792\n",
      "Utilitarian          3.0075      1.694      1.775      0.077        -0.322     6.337\n",
      "Charismatic          5.4035      2.888      1.871      0.062        -0.272    11.079\n",
      "Egalitarian         -1.8676      2.691     -0.694      0.488        -7.155     3.420\n",
      "Neighborly           5.6332      4.581      1.230      0.219        -3.369    14.635\n",
      "Formality            6.6519      2.697      2.466      0.014         1.352    11.951\n",
      "Exhibitionism        2.4852      2.696      0.922      0.357        -2.812     7.782\n",
      "Glamorous           -5.0202      3.271     -1.535      0.126       -11.448     1.407\n",
      "Transgressive       -1.5851      2.336     -0.679      0.498        -6.174     3.004\n",
      "Rational            -0.3667      3.065     -0.120      0.905        -6.389     5.656\n",
      "Locality             5.6371      2.488      2.266      0.024         0.749    10.525\n",
      "State_Scenes       -16.8031      5.041     -3.333      0.001       -26.708    -6.899\n",
      "Corporateness       -1.0702      2.083     -0.514      0.608        -5.162     3.022\n",
      "Ethnicity            5.6330      4.946      1.139      0.255        -4.086    15.352\n",
      "==============================================================================\n",
      "Omnibus:                      297.362   Durbin-Watson:                   2.079\n",
      "Prob(Omnibus):                  0.000   Jarque-Bera (JB):            14141.061\n",
      "Skew:                           1.874   Prob(JB):                         0.00\n",
      "Kurtosis:                      28.782   Cond. No.                     2.76e+04\n",
      "==============================================================================\n",
      "\n",
      "Warnings:\n",
      "[1] Standard Errors assume that the covariance matrix of the errors is correctly specified.\n",
      "[2] The condition number is large, 2.76e+04. This might indicate that there are\n",
      "strong multicollinearity or other numerical problems.\n"
     ]
    }
   ],
   "source": [
    "#Dependent variable is arts: how did jobs and the other variables influence the growth of arts?\n",
    "#Using sklearn to run the regression model with all the Scenes dimensions\n",
    "\n",
    "from sklearn import linear_model\n",
    "\n",
    "X = df[[\"JobsN_1998\", \"ArtsN_1998\", 'Traditionalistic','Self_Expressive', 'Utilitarian', 'Charismatic', 'Egalitarian', \n",
    "        'Neighborly', 'Formality','Exhibitionism', 'Glamorous', 'Transgressive', 'Rational', 'Locality', 'State_Scenes', \n",
    "        'Corporateness', 'Ethnicity']]\n",
    "X = sm.add_constant(X)\n",
    "y = df[\"ArtsN_2014\"]\n",
    "\n",
    "# Fit the linear model\n",
    "model = linear_model.LinearRegression()\n",
    "results = model.fit(X, y)\n",
    "\n",
    "# Note the swap of X and y\n",
    "model = sm.OLS(y, X)\n",
    "results = model.fit()\n",
    "\n",
    "# Statsmodels gives R-like statistical output\n",
    "print(results.summary())"
   ]
  },
  {
   "cell_type": "code",
   "execution_count": 26,
   "metadata": {
    "collapsed": false
   },
   "outputs": [
    {
     "name": "stdout",
     "output_type": "stream",
     "text": [
      "                            OLS Regression Results                            \n",
      "==============================================================================\n",
      "Dep. Variable:             JobsN_2014   R-squared:                       0.874\n",
      "Model:                            OLS   Adj. R-squared:                  0.870\n",
      "Method:                 Least Squares   F-statistic:                     196.8\n",
      "Date:                Mon, 21 Nov 2016   Prob (F-statistic):          3.06e-204\n",
      "Time:                        16:13:08   Log-Likelihood:                -4845.3\n",
      "No. Observations:                 500   AIC:                             9727.\n",
      "Df Residuals:                     482   BIC:                             9803.\n",
      "Df Model:                          17                                         \n",
      "Covariance Type:            nonrobust                                         \n",
      "====================================================================================\n",
      "                       coef    std err          t      P>|t|      [0.025      0.975]\n",
      "------------------------------------------------------------------------------------\n",
      "const              925.0486    373.649      2.476      0.014     190.866    1659.231\n",
      "JobsN_1998           1.0886      0.037     29.511      0.000       1.016       1.161\n",
      "ArtsN_1998           0.2726      0.712      0.383      0.702      -1.126       1.671\n",
      "Traditionalistic   185.9330     89.727      2.072      0.039       9.629     362.237\n",
      "Self_Expressive    -60.0317     56.883     -1.055      0.292    -171.802      51.738\n",
      "Utilitarian        -12.4539     31.470     -0.396      0.692     -74.290      49.382\n",
      "Charismatic        -28.0849     53.649     -0.523      0.601    -133.500      77.330\n",
      "Egalitarian        -51.7738     49.984     -1.036      0.301    -149.987      46.439\n",
      "Neighborly        -186.7487     85.095     -2.195      0.029    -353.952     -19.545\n",
      "Formality           97.3476     50.095      1.943      0.053      -1.084     195.780\n",
      "Exhibitionism      -40.7281     50.074     -0.813      0.416    -139.119      57.663\n",
      "Glamorous          124.5234     60.761      2.049      0.041       5.135     243.912\n",
      "Transgressive      127.2924     43.383      2.934      0.004      42.050     212.535\n",
      "Rational            45.0576     56.929      0.791      0.429     -66.803     156.918\n",
      "Locality            13.4640     46.208      0.291      0.771     -77.329     104.257\n",
      "State_Scenes         3.9562     93.627      0.042      0.966    -180.011     187.923\n",
      "Corporateness       52.8326     38.682      1.366      0.173     -23.174     128.839\n",
      "Ethnicity         -267.8701     91.869     -2.916      0.004    -448.383     -87.357\n",
      "==============================================================================\n",
      "Omnibus:                      247.035   Durbin-Watson:                   1.932\n",
      "Prob(Omnibus):                  0.000   Jarque-Bera (JB):             2772.298\n",
      "Skew:                           1.866   Prob(JB):                         0.00\n",
      "Kurtosis:                      13.915   Cond. No.                     2.76e+04\n",
      "==============================================================================\n",
      "\n",
      "Warnings:\n",
      "[1] Standard Errors assume that the covariance matrix of the errors is correctly specified.\n",
      "[2] The condition number is large, 2.76e+04. This might indicate that there are\n",
      "strong multicollinearity or other numerical problems.\n"
     ]
    }
   ],
   "source": [
    "#Dependent variable is jobs: how did jobs and the other variables influence the growth of jobs?\n",
    "#Using sklearn to run the regression model with all the Scenes dimensions\n",
    "\n",
    "from sklearn import linear_model\n",
    "\n",
    "X = df[['JobsN_1998', 'ArtsN_1998', 'Traditionalistic','Self_Expressive', 'Utilitarian', 'Charismatic', 'Egalitarian', \n",
    "        'Neighborly', 'Formality','Exhibitionism', 'Glamorous', 'Transgressive', 'Rational', 'Locality', 'State_Scenes', \n",
    "        'Corporateness', 'Ethnicity']]\n",
    "X = sm.add_constant(X)\n",
    "y = df[\"JobsN_2014\"]\n",
    "\n",
    "# Fit the linear model\n",
    "model = linear_model.LinearRegression()\n",
    "results = model.fit(X, y)\n",
    "\n",
    "# Note the swap of X and y\n",
    "model = sm.OLS(y, X)\n",
    "results = model.fit()\n",
    "\n",
    "# Statsmodels gives R-like statistical output\n",
    "print(results.summary())"
   ]
  },
  {
   "cell_type": "markdown",
   "metadata": {},
   "source": [
    "## Decision Trees"
   ]
  },
  {
   "cell_type": "markdown",
   "metadata": {},
   "source": [
    "### Only Scenes variables"
   ]
  },
  {
   "cell_type": "markdown",
   "metadata": {},
   "source": [
    "Defining variables"
   ]
  },
  {
   "cell_type": "code",
   "execution_count": 23,
   "metadata": {
    "collapsed": true
   },
   "outputs": [],
   "source": [
    "X = df[['Traditionalistic','Self_Expressive', 'Utilitarian', 'Charismatic', 'Egalitarian', \n",
    "        'Neighborly', 'Formality','Exhibitionism', 'Glamorous', 'Transgressive', 'Rational', 'Locality', 'State_Scenes', \n",
    "        'Corporateness', 'Ethnicity']]"
   ]
  },
  {
   "cell_type": "code",
   "execution_count": 24,
   "metadata": {
    "collapsed": false,
    "scrolled": false
   },
   "outputs": [
    {
     "name": "stderr",
     "output_type": "stream",
     "text": [
      "/anaconda/lib/python2.7/site-packages/ipykernel/__main__.py:20: FutureWarning: sort(columns=....) is deprecated, use sort_values(by=.....)\n"
     ]
    },
    {
     "data": {
      "text/html": [
       "<div>\n",
       "<table border=\"1\" class=\"dataframe\">\n",
       "  <thead>\n",
       "    <tr style=\"text-align: right;\">\n",
       "      <th></th>\n",
       "      <th>features</th>\n",
       "      <th>importances</th>\n",
       "    </tr>\n",
       "  </thead>\n",
       "  <tbody>\n",
       "    <tr>\n",
       "      <th>7</th>\n",
       "      <td>Exhibitionism</td>\n",
       "      <td>0.169560</td>\n",
       "    </tr>\n",
       "    <tr>\n",
       "      <th>6</th>\n",
       "      <td>Formality</td>\n",
       "      <td>0.121241</td>\n",
       "    </tr>\n",
       "    <tr>\n",
       "      <th>11</th>\n",
       "      <td>Locality</td>\n",
       "      <td>0.108274</td>\n",
       "    </tr>\n",
       "    <tr>\n",
       "      <th>2</th>\n",
       "      <td>Utilitarian</td>\n",
       "      <td>0.076579</td>\n",
       "    </tr>\n",
       "    <tr>\n",
       "      <th>0</th>\n",
       "      <td>Traditionalistic</td>\n",
       "      <td>0.067897</td>\n",
       "    </tr>\n",
       "    <tr>\n",
       "      <th>13</th>\n",
       "      <td>Corporateness</td>\n",
       "      <td>0.059494</td>\n",
       "    </tr>\n",
       "    <tr>\n",
       "      <th>9</th>\n",
       "      <td>Transgressive</td>\n",
       "      <td>0.055105</td>\n",
       "    </tr>\n",
       "    <tr>\n",
       "      <th>1</th>\n",
       "      <td>Self_Expressive</td>\n",
       "      <td>0.053760</td>\n",
       "    </tr>\n",
       "    <tr>\n",
       "      <th>8</th>\n",
       "      <td>Glamorous</td>\n",
       "      <td>0.052706</td>\n",
       "    </tr>\n",
       "    <tr>\n",
       "      <th>3</th>\n",
       "      <td>Charismatic</td>\n",
       "      <td>0.043160</td>\n",
       "    </tr>\n",
       "    <tr>\n",
       "      <th>10</th>\n",
       "      <td>Rational</td>\n",
       "      <td>0.043002</td>\n",
       "    </tr>\n",
       "    <tr>\n",
       "      <th>5</th>\n",
       "      <td>Neighborly</td>\n",
       "      <td>0.042461</td>\n",
       "    </tr>\n",
       "    <tr>\n",
       "      <th>4</th>\n",
       "      <td>Egalitarian</td>\n",
       "      <td>0.039421</td>\n",
       "    </tr>\n",
       "    <tr>\n",
       "      <th>14</th>\n",
       "      <td>Ethnicity</td>\n",
       "      <td>0.038602</td>\n",
       "    </tr>\n",
       "    <tr>\n",
       "      <th>12</th>\n",
       "      <td>State_Scenes</td>\n",
       "      <td>0.028737</td>\n",
       "    </tr>\n",
       "  </tbody>\n",
       "</table>\n",
       "</div>"
      ],
      "text/plain": [
       "            features  importances\n",
       "7      Exhibitionism     0.169560\n",
       "6          Formality     0.121241\n",
       "11          Locality     0.108274\n",
       "2        Utilitarian     0.076579\n",
       "0   Traditionalistic     0.067897\n",
       "13     Corporateness     0.059494\n",
       "9      Transgressive     0.055105\n",
       "1    Self_Expressive     0.053760\n",
       "8          Glamorous     0.052706\n",
       "3        Charismatic     0.043160\n",
       "10          Rational     0.043002\n",
       "5         Neighborly     0.042461\n",
       "4        Egalitarian     0.039421\n",
       "14         Ethnicity     0.038602\n",
       "12      State_Scenes     0.028737"
      ]
     },
     "execution_count": 24,
     "metadata": {},
     "output_type": "execute_result"
    }
   ],
   "source": [
    "y = df['arts_change']\n",
    "\n",
    "dt = DecisionTreeClassifier(criterion='entropy', \n",
    "                           random_state=4)\n",
    "dt.fit(X, y)\n",
    "\n",
    "dt.feature_importances_\n",
    "\n",
    "# Put the feature importances in a list\n",
    "feature_importances_array = dt.feature_importances_\n",
    "\n",
    "# Put the features themselves in a list\n",
    "features_array = X.columns.values \n",
    "\n",
    "# Turn these into a Data Frame\n",
    "feature_importances_df = pd.DataFrame({'importances' : feature_importances_array,\n",
    "                                       'features' : features_array})\n",
    "\n",
    "# Sort the feature importances highest to lowest\n",
    "feature_importances_df.sort(columns='importances',ascending=False)"
   ]
  },
  {
   "cell_type": "markdown",
   "metadata": {},
   "source": [
    "### More variables"
   ]
  },
  {
   "cell_type": "code",
   "execution_count": 25,
   "metadata": {
    "collapsed": true
   },
   "outputs": [],
   "source": [
    "X = df[['MedAge2k','pctba2k', 'racediversity2k', 'medrent2k', 'medhhinc2k', 'meantrav2k',\n",
    "        'pctsamehouse2k', 'pctfemale2k', 'pctmarried2k', 'pctchild2k', 'pctunemp2k', 'diversityfb2k', \n",
    "        'pctrental2k', 'pctpov2k', 'pctbike2k', 'pctdrove2k', 'pctwalk2k', 'density2000', 'housingdensity2000', 'Pop2000',\n",
    "        'RentMed', 'Democ92', 'NonWhite_90', 'CollProfLv90', 'CrimeRate1999county']]"
   ]
  },
  {
   "cell_type": "code",
   "execution_count": 26,
   "metadata": {
    "collapsed": false,
    "scrolled": true
   },
   "outputs": [
    {
     "name": "stderr",
     "output_type": "stream",
     "text": [
      "/anaconda/lib/python2.7/site-packages/ipykernel/__main__.py:20: FutureWarning: sort(columns=....) is deprecated, use sort_values(by=.....)\n"
     ]
    },
    {
     "data": {
      "text/html": [
       "<div>\n",
       "<table border=\"1\" class=\"dataframe\">\n",
       "  <thead>\n",
       "    <tr style=\"text-align: right;\">\n",
       "      <th></th>\n",
       "      <th>features</th>\n",
       "      <th>importances</th>\n",
       "    </tr>\n",
       "  </thead>\n",
       "  <tbody>\n",
       "    <tr>\n",
       "      <th>19</th>\n",
       "      <td>Pop2000</td>\n",
       "      <td>0.178579</td>\n",
       "    </tr>\n",
       "    <tr>\n",
       "      <th>3</th>\n",
       "      <td>medrent2k</td>\n",
       "      <td>0.081056</td>\n",
       "    </tr>\n",
       "    <tr>\n",
       "      <th>17</th>\n",
       "      <td>density2000</td>\n",
       "      <td>0.065672</td>\n",
       "    </tr>\n",
       "    <tr>\n",
       "      <th>23</th>\n",
       "      <td>CollProfLv90</td>\n",
       "      <td>0.060981</td>\n",
       "    </tr>\n",
       "    <tr>\n",
       "      <th>5</th>\n",
       "      <td>meantrav2k</td>\n",
       "      <td>0.047409</td>\n",
       "    </tr>\n",
       "    <tr>\n",
       "      <th>21</th>\n",
       "      <td>Democ92</td>\n",
       "      <td>0.046914</td>\n",
       "    </tr>\n",
       "    <tr>\n",
       "      <th>12</th>\n",
       "      <td>pctrental2k</td>\n",
       "      <td>0.042818</td>\n",
       "    </tr>\n",
       "    <tr>\n",
       "      <th>9</th>\n",
       "      <td>pctchild2k</td>\n",
       "      <td>0.041938</td>\n",
       "    </tr>\n",
       "    <tr>\n",
       "      <th>20</th>\n",
       "      <td>RentMed</td>\n",
       "      <td>0.039832</td>\n",
       "    </tr>\n",
       "    <tr>\n",
       "      <th>13</th>\n",
       "      <td>pctpov2k</td>\n",
       "      <td>0.036037</td>\n",
       "    </tr>\n",
       "    <tr>\n",
       "      <th>24</th>\n",
       "      <td>CrimeRate1999county</td>\n",
       "      <td>0.033061</td>\n",
       "    </tr>\n",
       "    <tr>\n",
       "      <th>10</th>\n",
       "      <td>pctunemp2k</td>\n",
       "      <td>0.032457</td>\n",
       "    </tr>\n",
       "    <tr>\n",
       "      <th>8</th>\n",
       "      <td>pctmarried2k</td>\n",
       "      <td>0.028861</td>\n",
       "    </tr>\n",
       "    <tr>\n",
       "      <th>14</th>\n",
       "      <td>pctbike2k</td>\n",
       "      <td>0.028617</td>\n",
       "    </tr>\n",
       "    <tr>\n",
       "      <th>15</th>\n",
       "      <td>pctdrove2k</td>\n",
       "      <td>0.026572</td>\n",
       "    </tr>\n",
       "    <tr>\n",
       "      <th>1</th>\n",
       "      <td>pctba2k</td>\n",
       "      <td>0.025811</td>\n",
       "    </tr>\n",
       "    <tr>\n",
       "      <th>0</th>\n",
       "      <td>MedAge2k</td>\n",
       "      <td>0.025597</td>\n",
       "    </tr>\n",
       "    <tr>\n",
       "      <th>22</th>\n",
       "      <td>NonWhite_90</td>\n",
       "      <td>0.024662</td>\n",
       "    </tr>\n",
       "    <tr>\n",
       "      <th>2</th>\n",
       "      <td>racediversity2k</td>\n",
       "      <td>0.022664</td>\n",
       "    </tr>\n",
       "    <tr>\n",
       "      <th>7</th>\n",
       "      <td>pctfemale2k</td>\n",
       "      <td>0.022277</td>\n",
       "    </tr>\n",
       "    <tr>\n",
       "      <th>6</th>\n",
       "      <td>pctsamehouse2k</td>\n",
       "      <td>0.021780</td>\n",
       "    </tr>\n",
       "    <tr>\n",
       "      <th>16</th>\n",
       "      <td>pctwalk2k</td>\n",
       "      <td>0.020837</td>\n",
       "    </tr>\n",
       "    <tr>\n",
       "      <th>18</th>\n",
       "      <td>housingdensity2000</td>\n",
       "      <td>0.020574</td>\n",
       "    </tr>\n",
       "    <tr>\n",
       "      <th>11</th>\n",
       "      <td>diversityfb2k</td>\n",
       "      <td>0.014859</td>\n",
       "    </tr>\n",
       "    <tr>\n",
       "      <th>4</th>\n",
       "      <td>medhhinc2k</td>\n",
       "      <td>0.010130</td>\n",
       "    </tr>\n",
       "  </tbody>\n",
       "</table>\n",
       "</div>"
      ],
      "text/plain": [
       "               features  importances\n",
       "19              Pop2000     0.178579\n",
       "3             medrent2k     0.081056\n",
       "17          density2000     0.065672\n",
       "23         CollProfLv90     0.060981\n",
       "5            meantrav2k     0.047409\n",
       "21              Democ92     0.046914\n",
       "12          pctrental2k     0.042818\n",
       "9            pctchild2k     0.041938\n",
       "20              RentMed     0.039832\n",
       "13             pctpov2k     0.036037\n",
       "24  CrimeRate1999county     0.033061\n",
       "10           pctunemp2k     0.032457\n",
       "8          pctmarried2k     0.028861\n",
       "14            pctbike2k     0.028617\n",
       "15           pctdrove2k     0.026572\n",
       "1               pctba2k     0.025811\n",
       "0              MedAge2k     0.025597\n",
       "22          NonWhite_90     0.024662\n",
       "2       racediversity2k     0.022664\n",
       "7           pctfemale2k     0.022277\n",
       "6        pctsamehouse2k     0.021780\n",
       "16            pctwalk2k     0.020837\n",
       "18   housingdensity2000     0.020574\n",
       "11        diversityfb2k     0.014859\n",
       "4            medhhinc2k     0.010130"
      ]
     },
     "execution_count": 26,
     "metadata": {},
     "output_type": "execute_result"
    }
   ],
   "source": [
    "y = df['ArtsN_2014']\n",
    "\n",
    "dt = DecisionTreeClassifier(criterion='entropy', \n",
    "                           random_state=4)\n",
    "dt.fit(X, y)\n",
    "\n",
    "dt.feature_importances_\n",
    "\n",
    "# Put the feature importances in a list\n",
    "feature_importances_array = dt.feature_importances_\n",
    "\n",
    "# Put the features themselves in a list\n",
    "features_array = X.columns.values \n",
    "\n",
    "# Turn these into a Data Frame\n",
    "feature_importances_df = pd.DataFrame({'importances' : feature_importances_array,\n",
    "                                       'features' : features_array})\n",
    "\n",
    "# Sort the feature importances highest to lowest\n",
    "feature_importances_df.sort(columns='importances',ascending=False)"
   ]
  },
  {
   "cell_type": "code",
   "execution_count": 27,
   "metadata": {
    "collapsed": false,
    "scrolled": true
   },
   "outputs": [
    {
     "ename": "NameError",
     "evalue": "name 'cross_val_score' is not defined",
     "output_type": "error",
     "traceback": [
      "\u001b[0;31m---------------------------------------------------------------------------\u001b[0m",
      "\u001b[0;31mNameError\u001b[0m                                 Traceback (most recent call last)",
      "\u001b[0;32m<ipython-input-27-8246111f5e35>\u001b[0m in \u001b[0;36m<module>\u001b[0;34m()\u001b[0m\n\u001b[1;32m      1\u001b[0m \u001b[0;31m# Get the cross validated accuracy score for each of three cross validation folds\u001b[0m\u001b[0;34m\u001b[0m\u001b[0;34m\u001b[0m\u001b[0m\n\u001b[0;32m----> 2\u001b[0;31m \u001b[0mdt_scores\u001b[0m \u001b[0;34m=\u001b[0m \u001b[0mcross_val_score\u001b[0m\u001b[0;34m(\u001b[0m\u001b[0mdt\u001b[0m\u001b[0;34m,\u001b[0m \u001b[0mX\u001b[0m\u001b[0;34m,\u001b[0m \u001b[0my\u001b[0m\u001b[0;34m)\u001b[0m\u001b[0;34m\u001b[0m\u001b[0m\n\u001b[0m\u001b[1;32m      3\u001b[0m \u001b[0;34m\u001b[0m\u001b[0m\n\u001b[1;32m      4\u001b[0m \u001b[0;31m# Take the mean of these scores\u001b[0m\u001b[0;34m\u001b[0m\u001b[0;34m\u001b[0m\u001b[0m\n\u001b[1;32m      5\u001b[0m \u001b[0mround\u001b[0m\u001b[0;34m(\u001b[0m\u001b[0mdt_scores\u001b[0m\u001b[0;34m.\u001b[0m\u001b[0mmean\u001b[0m\u001b[0;34m(\u001b[0m\u001b[0;34m)\u001b[0m\u001b[0;34m,\u001b[0m \u001b[0;36m5\u001b[0m\u001b[0;34m)\u001b[0m\u001b[0;34m\u001b[0m\u001b[0m\n",
      "\u001b[0;31mNameError\u001b[0m: name 'cross_val_score' is not defined"
     ]
    }
   ],
   "source": [
    "# Get the cross validated accuracy score for each of three cross validation folds\n",
    "dt_scores = cross_val_score(dt, X, y)\n",
    "\n",
    "# Take the mean of these scores\n",
    "round(dt_scores.mean(), 5)"
   ]
  },
  {
   "cell_type": "markdown",
   "metadata": {},
   "source": [
    "### All variables in the data"
   ]
  },
  {
   "cell_type": "code",
   "execution_count": 98,
   "metadata": {
    "collapsed": true
   },
   "outputs": [],
   "source": [
    "X = df[[ 'ArtsN_1998', 'JobsN_1998', 'ArtsN_1999', 'JobsN_1999', 'ArtsN_2000', 'JobsN_2000', 'ArtsN_2001', 'JobsN_2001',\n",
    " 'ArtsN_2002', 'JobsN_2002', 'ArtsN_2003', 'JobsN_2003', 'ArtsN_2004', 'JobsN_2004', 'ArtsN_2005', 'JobsN_2005',\n",
    " 'ArtsN_2006', 'JobsN_2006', 'ArtsN_2007', 'JobsN_2007', 'ArtsN_2008', 'JobsN_2008', 'ArtsN_2009', 'JobsN_2009',\n",
    " 'ArtsN_2010', 'JobsN_2010', 'ArtsN_2011', 'JobsN_2011', 'ArtsN_2012', 'JobsN_2012', 'ArtsN_2013', 'JobsN_2013']]"
   ]
  },
  {
   "cell_type": "code",
   "execution_count": 99,
   "metadata": {
    "collapsed": false,
    "scrolled": true
   },
   "outputs": [
    {
     "name": "stderr",
     "output_type": "stream",
     "text": [
      "/anaconda/lib/python2.7/site-packages/ipykernel/__main__.py:20: FutureWarning: sort(columns=....) is deprecated, use sort_values(by=.....)\n"
     ]
    },
    {
     "data": {
      "text/html": [
       "<div>\n",
       "<table border=\"1\" class=\"dataframe\">\n",
       "  <thead>\n",
       "    <tr style=\"text-align: right;\">\n",
       "      <th></th>\n",
       "      <th>features</th>\n",
       "      <th>importances</th>\n",
       "    </tr>\n",
       "  </thead>\n",
       "  <tbody>\n",
       "    <tr>\n",
       "      <th>26</th>\n",
       "      <td>ArtsN_2011</td>\n",
       "      <td>0.150489</td>\n",
       "    </tr>\n",
       "    <tr>\n",
       "      <th>30</th>\n",
       "      <td>ArtsN_2013</td>\n",
       "      <td>0.104256</td>\n",
       "    </tr>\n",
       "    <tr>\n",
       "      <th>28</th>\n",
       "      <td>ArtsN_2012</td>\n",
       "      <td>0.082838</td>\n",
       "    </tr>\n",
       "    <tr>\n",
       "      <th>0</th>\n",
       "      <td>ArtsN_1998</td>\n",
       "      <td>0.080889</td>\n",
       "    </tr>\n",
       "    <tr>\n",
       "      <th>6</th>\n",
       "      <td>ArtsN_2001</td>\n",
       "      <td>0.071213</td>\n",
       "    </tr>\n",
       "    <tr>\n",
       "      <th>2</th>\n",
       "      <td>ArtsN_1999</td>\n",
       "      <td>0.064168</td>\n",
       "    </tr>\n",
       "    <tr>\n",
       "      <th>8</th>\n",
       "      <td>ArtsN_2002</td>\n",
       "      <td>0.038265</td>\n",
       "    </tr>\n",
       "    <tr>\n",
       "      <th>18</th>\n",
       "      <td>ArtsN_2007</td>\n",
       "      <td>0.035643</td>\n",
       "    </tr>\n",
       "    <tr>\n",
       "      <th>1</th>\n",
       "      <td>JobsN_1998</td>\n",
       "      <td>0.031035</td>\n",
       "    </tr>\n",
       "    <tr>\n",
       "      <th>4</th>\n",
       "      <td>ArtsN_2000</td>\n",
       "      <td>0.028627</td>\n",
       "    </tr>\n",
       "    <tr>\n",
       "      <th>12</th>\n",
       "      <td>ArtsN_2004</td>\n",
       "      <td>0.022250</td>\n",
       "    </tr>\n",
       "    <tr>\n",
       "      <th>21</th>\n",
       "      <td>JobsN_2008</td>\n",
       "      <td>0.022007</td>\n",
       "    </tr>\n",
       "    <tr>\n",
       "      <th>24</th>\n",
       "      <td>ArtsN_2010</td>\n",
       "      <td>0.021097</td>\n",
       "    </tr>\n",
       "    <tr>\n",
       "      <th>22</th>\n",
       "      <td>ArtsN_2009</td>\n",
       "      <td>0.020127</td>\n",
       "    </tr>\n",
       "    <tr>\n",
       "      <th>17</th>\n",
       "      <td>JobsN_2006</td>\n",
       "      <td>0.019884</td>\n",
       "    </tr>\n",
       "    <tr>\n",
       "      <th>20</th>\n",
       "      <td>ArtsN_2008</td>\n",
       "      <td>0.018842</td>\n",
       "    </tr>\n",
       "    <tr>\n",
       "      <th>9</th>\n",
       "      <td>JobsN_2002</td>\n",
       "      <td>0.018162</td>\n",
       "    </tr>\n",
       "    <tr>\n",
       "      <th>5</th>\n",
       "      <td>JobsN_2000</td>\n",
       "      <td>0.017645</td>\n",
       "    </tr>\n",
       "    <tr>\n",
       "      <th>31</th>\n",
       "      <td>JobsN_2013</td>\n",
       "      <td>0.017353</td>\n",
       "    </tr>\n",
       "    <tr>\n",
       "      <th>19</th>\n",
       "      <td>JobsN_2007</td>\n",
       "      <td>0.016570</td>\n",
       "    </tr>\n",
       "    <tr>\n",
       "      <th>16</th>\n",
       "      <td>ArtsN_2006</td>\n",
       "      <td>0.016225</td>\n",
       "    </tr>\n",
       "    <tr>\n",
       "      <th>14</th>\n",
       "      <td>ArtsN_2005</td>\n",
       "      <td>0.015216</td>\n",
       "    </tr>\n",
       "    <tr>\n",
       "      <th>23</th>\n",
       "      <td>JobsN_2009</td>\n",
       "      <td>0.013850</td>\n",
       "    </tr>\n",
       "    <tr>\n",
       "      <th>13</th>\n",
       "      <td>JobsN_2004</td>\n",
       "      <td>0.012822</td>\n",
       "    </tr>\n",
       "    <tr>\n",
       "      <th>10</th>\n",
       "      <td>ArtsN_2003</td>\n",
       "      <td>0.012163</td>\n",
       "    </tr>\n",
       "    <tr>\n",
       "      <th>15</th>\n",
       "      <td>JobsN_2005</td>\n",
       "      <td>0.009750</td>\n",
       "    </tr>\n",
       "    <tr>\n",
       "      <th>11</th>\n",
       "      <td>JobsN_2003</td>\n",
       "      <td>0.008916</td>\n",
       "    </tr>\n",
       "    <tr>\n",
       "      <th>3</th>\n",
       "      <td>JobsN_1999</td>\n",
       "      <td>0.007062</td>\n",
       "    </tr>\n",
       "    <tr>\n",
       "      <th>7</th>\n",
       "      <td>JobsN_2001</td>\n",
       "      <td>0.006473</td>\n",
       "    </tr>\n",
       "    <tr>\n",
       "      <th>27</th>\n",
       "      <td>JobsN_2011</td>\n",
       "      <td>0.006386</td>\n",
       "    </tr>\n",
       "    <tr>\n",
       "      <th>25</th>\n",
       "      <td>JobsN_2010</td>\n",
       "      <td>0.005810</td>\n",
       "    </tr>\n",
       "    <tr>\n",
       "      <th>29</th>\n",
       "      <td>JobsN_2012</td>\n",
       "      <td>0.003967</td>\n",
       "    </tr>\n",
       "  </tbody>\n",
       "</table>\n",
       "</div>"
      ],
      "text/plain": [
       "      features  importances\n",
       "26  ArtsN_2011     0.150489\n",
       "30  ArtsN_2013     0.104256\n",
       "28  ArtsN_2012     0.082838\n",
       "0   ArtsN_1998     0.080889\n",
       "6   ArtsN_2001     0.071213\n",
       "2   ArtsN_1999     0.064168\n",
       "8   ArtsN_2002     0.038265\n",
       "18  ArtsN_2007     0.035643\n",
       "1   JobsN_1998     0.031035\n",
       "4   ArtsN_2000     0.028627\n",
       "12  ArtsN_2004     0.022250\n",
       "21  JobsN_2008     0.022007\n",
       "24  ArtsN_2010     0.021097\n",
       "22  ArtsN_2009     0.020127\n",
       "17  JobsN_2006     0.019884\n",
       "20  ArtsN_2008     0.018842\n",
       "9   JobsN_2002     0.018162\n",
       "5   JobsN_2000     0.017645\n",
       "31  JobsN_2013     0.017353\n",
       "19  JobsN_2007     0.016570\n",
       "16  ArtsN_2006     0.016225\n",
       "14  ArtsN_2005     0.015216\n",
       "23  JobsN_2009     0.013850\n",
       "13  JobsN_2004     0.012822\n",
       "10  ArtsN_2003     0.012163\n",
       "15  JobsN_2005     0.009750\n",
       "11  JobsN_2003     0.008916\n",
       "3   JobsN_1999     0.007062\n",
       "7   JobsN_2001     0.006473\n",
       "27  JobsN_2011     0.006386\n",
       "25  JobsN_2010     0.005810\n",
       "29  JobsN_2012     0.003967"
      ]
     },
     "execution_count": 99,
     "metadata": {},
     "output_type": "execute_result"
    }
   ],
   "source": [
    "y = df['arts_change']\n",
    "\n",
    "dt = DecisionTreeClassifier(criterion='entropy', \n",
    "                           random_state=4)\n",
    "dt.fit(X, y)\n",
    "\n",
    "dt.feature_importances_\n",
    "\n",
    "# Put the feature importances in a list\n",
    "feature_importances_array = dt.feature_importances_\n",
    "\n",
    "# Put the features themselves in a list\n",
    "features_array = X.columns.values \n",
    "\n",
    "# Turn these into a Data Frame\n",
    "feature_importances_df = pd.DataFrame({'importances' : feature_importances_array,\n",
    "                                       'features' : features_array})\n",
    "\n",
    "# Sort the feature importances highest to lowest\n",
    "feature_importances_df.sort(columns='importances',ascending=False)"
   ]
  },
  {
   "cell_type": "markdown",
   "metadata": {},
   "source": [
    "## Random Forest"
   ]
  },
  {
   "cell_type": "code",
   "execution_count": 28,
   "metadata": {
    "collapsed": true
   },
   "outputs": [],
   "source": [
    "X = df[['Traditionalistic','Self_Expressive', 'Utilitarian', 'Charismatic', 'Egalitarian', \n",
    "        'Neighborly', 'Formality','Exhibitionism', 'Glamorous', 'Transgressive', 'Rational', 'Locality', 'State_Scenes', \n",
    "        'Corporateness', 'Ethnicity']]\n",
    "y = df['ArtsN_2014']"
   ]
  },
  {
   "cell_type": "code",
   "execution_count": 32,
   "metadata": {
    "collapsed": false,
    "scrolled": false
   },
   "outputs": [
    {
     "name": "stderr",
     "output_type": "stream",
     "text": [
      "/anaconda/lib/python2.7/site-packages/ipykernel/__main__.py:20: FutureWarning: sort(columns=....) is deprecated, use sort_values(by=.....)\n"
     ]
    },
    {
     "data": {
      "text/html": [
       "<div>\n",
       "<table border=\"1\" class=\"dataframe\">\n",
       "  <thead>\n",
       "    <tr style=\"text-align: right;\">\n",
       "      <th></th>\n",
       "      <th>features</th>\n",
       "      <th>importances</th>\n",
       "    </tr>\n",
       "  </thead>\n",
       "  <tbody>\n",
       "    <tr>\n",
       "      <th>2</th>\n",
       "      <td>Utilitarian</td>\n",
       "      <td>0.072805</td>\n",
       "    </tr>\n",
       "    <tr>\n",
       "      <th>9</th>\n",
       "      <td>Transgressive</td>\n",
       "      <td>0.070049</td>\n",
       "    </tr>\n",
       "    <tr>\n",
       "      <th>13</th>\n",
       "      <td>Corporateness</td>\n",
       "      <td>0.069293</td>\n",
       "    </tr>\n",
       "    <tr>\n",
       "      <th>8</th>\n",
       "      <td>Glamorous</td>\n",
       "      <td>0.068822</td>\n",
       "    </tr>\n",
       "    <tr>\n",
       "      <th>11</th>\n",
       "      <td>Locality</td>\n",
       "      <td>0.067409</td>\n",
       "    </tr>\n",
       "    <tr>\n",
       "      <th>4</th>\n",
       "      <td>Egalitarian</td>\n",
       "      <td>0.067021</td>\n",
       "    </tr>\n",
       "    <tr>\n",
       "      <th>10</th>\n",
       "      <td>Rational</td>\n",
       "      <td>0.066563</td>\n",
       "    </tr>\n",
       "    <tr>\n",
       "      <th>3</th>\n",
       "      <td>Charismatic</td>\n",
       "      <td>0.066258</td>\n",
       "    </tr>\n",
       "    <tr>\n",
       "      <th>6</th>\n",
       "      <td>Formality</td>\n",
       "      <td>0.065676</td>\n",
       "    </tr>\n",
       "    <tr>\n",
       "      <th>1</th>\n",
       "      <td>Self_Expressive</td>\n",
       "      <td>0.065650</td>\n",
       "    </tr>\n",
       "    <tr>\n",
       "      <th>7</th>\n",
       "      <td>Exhibitionism</td>\n",
       "      <td>0.065527</td>\n",
       "    </tr>\n",
       "    <tr>\n",
       "      <th>5</th>\n",
       "      <td>Neighborly</td>\n",
       "      <td>0.064395</td>\n",
       "    </tr>\n",
       "    <tr>\n",
       "      <th>0</th>\n",
       "      <td>Traditionalistic</td>\n",
       "      <td>0.064041</td>\n",
       "    </tr>\n",
       "    <tr>\n",
       "      <th>12</th>\n",
       "      <td>State_Scenes</td>\n",
       "      <td>0.063251</td>\n",
       "    </tr>\n",
       "    <tr>\n",
       "      <th>14</th>\n",
       "      <td>Ethnicity</td>\n",
       "      <td>0.063239</td>\n",
       "    </tr>\n",
       "  </tbody>\n",
       "</table>\n",
       "</div>"
      ],
      "text/plain": [
       "            features  importances\n",
       "2        Utilitarian     0.072805\n",
       "9      Transgressive     0.070049\n",
       "13     Corporateness     0.069293\n",
       "8          Glamorous     0.068822\n",
       "11          Locality     0.067409\n",
       "4        Egalitarian     0.067021\n",
       "10          Rational     0.066563\n",
       "3        Charismatic     0.066258\n",
       "6          Formality     0.065676\n",
       "1    Self_Expressive     0.065650\n",
       "7      Exhibitionism     0.065527\n",
       "5         Neighborly     0.064395\n",
       "0   Traditionalistic     0.064041\n",
       "12      State_Scenes     0.063251\n",
       "14         Ethnicity     0.063239"
      ]
     },
     "execution_count": 32,
     "metadata": {},
     "output_type": "execute_result"
    }
   ],
   "source": [
    "# Initialize a LogisticRegression object (one line below):\n",
    "\n",
    "rf = RandomForestClassifier(n_estimators = 1000,\n",
    "                           class_weight='balanced')\n",
    "\n",
    "# Get the cross validated accuracy score for each of three cross validation folds (one line below):\n",
    "rf_scores = cross_val_score(rf, X, y)\n",
    "\n",
    "# Add one line to simply print out the resulting scores:\n",
    "print rf_scores\n",
    "\n",
    "# Get the mean of these scores (one line below):\n",
    "print \"mean of cross validation scores: \" + round(rf_scores.mean(), 3)\n",
    "\n",
    "rf.fit(X, y)\n",
    "fi = rf.feature_importances_\n",
    "feat = X.columns.values\n",
    "feat_df = pd.DataFrame({\"importances\": fi,\n",
    "                        \"features\": feat})\n",
    "feat_df.sort(\"importances\", ascending=False)"
   ]
  },
  {
   "cell_type": "code",
   "execution_count": 79,
   "metadata": {
    "collapsed": true
   },
   "outputs": [],
   "source": [
    "X = df[['MedAge2k','pctba2k', 'racediversity2k', 'medrent2k', 'medhhinc2k', 'meantrav2k',\n",
    "        'pctsamehouse2k', 'pctfemale2k', 'pctmarried2k', 'pctchild2k', 'pctunemp2k', 'diversityfb2k', \n",
    "        'pctrental2k', 'pctpov2k', 'pctbike2k', 'pctdrove2k', 'pctwalk2k', 'density2000', 'housingdensity2000', 'Pop2000',\n",
    "        'RentMed', 'Democ92', 'NonWhite_90', 'CollProfLv90', 'CrimeRate1999county']]\n",
    "y = df['ArtsN_2014']"
   ]
  },
  {
   "cell_type": "code",
   "execution_count": 80,
   "metadata": {
    "collapsed": false,
    "scrolled": false
   },
   "outputs": [
    {
     "name": "stdout",
     "output_type": "stream",
     "text": [
      "[ 0.03061224  0.05511811  0.10126582]\n",
      "0.062\n"
     ]
    },
    {
     "name": "stderr",
     "output_type": "stream",
     "text": [
      "/anaconda/lib/python2.7/site-packages/ipykernel/__main__.py:20: FutureWarning: sort(columns=....) is deprecated, use sort_values(by=.....)\n"
     ]
    },
    {
     "data": {
      "text/html": [
       "<div>\n",
       "<table border=\"1\" class=\"dataframe\">\n",
       "  <thead>\n",
       "    <tr style=\"text-align: right;\">\n",
       "      <th></th>\n",
       "      <th>features</th>\n",
       "      <th>importances</th>\n",
       "    </tr>\n",
       "  </thead>\n",
       "  <tbody>\n",
       "    <tr>\n",
       "      <th>19</th>\n",
       "      <td>Pop2000</td>\n",
       "      <td>0.049064</td>\n",
       "    </tr>\n",
       "    <tr>\n",
       "      <th>6</th>\n",
       "      <td>pctsamehouse2k</td>\n",
       "      <td>0.045450</td>\n",
       "    </tr>\n",
       "    <tr>\n",
       "      <th>5</th>\n",
       "      <td>meantrav2k</td>\n",
       "      <td>0.043785</td>\n",
       "    </tr>\n",
       "    <tr>\n",
       "      <th>9</th>\n",
       "      <td>pctchild2k</td>\n",
       "      <td>0.043468</td>\n",
       "    </tr>\n",
       "    <tr>\n",
       "      <th>7</th>\n",
       "      <td>pctfemale2k</td>\n",
       "      <td>0.042996</td>\n",
       "    </tr>\n",
       "    <tr>\n",
       "      <th>12</th>\n",
       "      <td>pctrental2k</td>\n",
       "      <td>0.041805</td>\n",
       "    </tr>\n",
       "    <tr>\n",
       "      <th>2</th>\n",
       "      <td>racediversity2k</td>\n",
       "      <td>0.041754</td>\n",
       "    </tr>\n",
       "    <tr>\n",
       "      <th>13</th>\n",
       "      <td>pctpov2k</td>\n",
       "      <td>0.041141</td>\n",
       "    </tr>\n",
       "    <tr>\n",
       "      <th>20</th>\n",
       "      <td>RentMed</td>\n",
       "      <td>0.041052</td>\n",
       "    </tr>\n",
       "    <tr>\n",
       "      <th>8</th>\n",
       "      <td>pctmarried2k</td>\n",
       "      <td>0.040784</td>\n",
       "    </tr>\n",
       "    <tr>\n",
       "      <th>0</th>\n",
       "      <td>MedAge2k</td>\n",
       "      <td>0.040592</td>\n",
       "    </tr>\n",
       "    <tr>\n",
       "      <th>23</th>\n",
       "      <td>CollProfLv90</td>\n",
       "      <td>0.040450</td>\n",
       "    </tr>\n",
       "    <tr>\n",
       "      <th>15</th>\n",
       "      <td>pctdrove2k</td>\n",
       "      <td>0.040437</td>\n",
       "    </tr>\n",
       "    <tr>\n",
       "      <th>1</th>\n",
       "      <td>pctba2k</td>\n",
       "      <td>0.040090</td>\n",
       "    </tr>\n",
       "    <tr>\n",
       "      <th>24</th>\n",
       "      <td>CrimeRate1999county</td>\n",
       "      <td>0.039725</td>\n",
       "    </tr>\n",
       "    <tr>\n",
       "      <th>16</th>\n",
       "      <td>pctwalk2k</td>\n",
       "      <td>0.038816</td>\n",
       "    </tr>\n",
       "    <tr>\n",
       "      <th>21</th>\n",
       "      <td>Democ92</td>\n",
       "      <td>0.038755</td>\n",
       "    </tr>\n",
       "    <tr>\n",
       "      <th>3</th>\n",
       "      <td>medrent2k</td>\n",
       "      <td>0.038423</td>\n",
       "    </tr>\n",
       "    <tr>\n",
       "      <th>11</th>\n",
       "      <td>diversityfb2k</td>\n",
       "      <td>0.038062</td>\n",
       "    </tr>\n",
       "    <tr>\n",
       "      <th>10</th>\n",
       "      <td>pctunemp2k</td>\n",
       "      <td>0.037995</td>\n",
       "    </tr>\n",
       "    <tr>\n",
       "      <th>4</th>\n",
       "      <td>medhhinc2k</td>\n",
       "      <td>0.036373</td>\n",
       "    </tr>\n",
       "    <tr>\n",
       "      <th>14</th>\n",
       "      <td>pctbike2k</td>\n",
       "      <td>0.036250</td>\n",
       "    </tr>\n",
       "    <tr>\n",
       "      <th>22</th>\n",
       "      <td>NonWhite_90</td>\n",
       "      <td>0.036014</td>\n",
       "    </tr>\n",
       "    <tr>\n",
       "      <th>17</th>\n",
       "      <td>density2000</td>\n",
       "      <td>0.033785</td>\n",
       "    </tr>\n",
       "    <tr>\n",
       "      <th>18</th>\n",
       "      <td>housingdensity2000</td>\n",
       "      <td>0.032934</td>\n",
       "    </tr>\n",
       "  </tbody>\n",
       "</table>\n",
       "</div>"
      ],
      "text/plain": [
       "               features  importances\n",
       "19              Pop2000     0.049064\n",
       "6        pctsamehouse2k     0.045450\n",
       "5            meantrav2k     0.043785\n",
       "9            pctchild2k     0.043468\n",
       "7           pctfemale2k     0.042996\n",
       "12          pctrental2k     0.041805\n",
       "2       racediversity2k     0.041754\n",
       "13             pctpov2k     0.041141\n",
       "20              RentMed     0.041052\n",
       "8          pctmarried2k     0.040784\n",
       "0              MedAge2k     0.040592\n",
       "23         CollProfLv90     0.040450\n",
       "15           pctdrove2k     0.040437\n",
       "1               pctba2k     0.040090\n",
       "24  CrimeRate1999county     0.039725\n",
       "16            pctwalk2k     0.038816\n",
       "21              Democ92     0.038755\n",
       "3             medrent2k     0.038423\n",
       "11        diversityfb2k     0.038062\n",
       "10           pctunemp2k     0.037995\n",
       "4            medhhinc2k     0.036373\n",
       "14            pctbike2k     0.036250\n",
       "22          NonWhite_90     0.036014\n",
       "17          density2000     0.033785\n",
       "18   housingdensity2000     0.032934"
      ]
     },
     "execution_count": 80,
     "metadata": {},
     "output_type": "execute_result"
    }
   ],
   "source": [
    "# Initialize a LogisticRegression object (one line below):\n",
    "\n",
    "rf = RandomForestClassifier(n_estimators = 1000,\n",
    "                           class_weight='balanced')\n",
    "\n",
    "# Get the cross validated accuracy score for each of three cross validation folds (one line below):\n",
    "rf_scores = cross_val_score(rf, X, y)\n",
    "\n",
    "# Add one line to simply print out the resulting scores:\n",
    "print \"cross validation scores: \" + rf_scores\n",
    "\n",
    "# Get the mean of these scores (one line below):\n",
    "print \"mean of cross validation scores: \" + round(rf_scores.mean(), 3)\n",
    "\n",
    "rf.fit(X, y)\n",
    "fi = rf.feature_importances_\n",
    "feat = X.columns.values\n",
    "feat_df = pd.DataFrame({\"importances\": fi,\n",
    "                        \"features\": feat})\n",
    "feat_df.sort(\"importances\", ascending=False)"
   ]
  },
  {
   "cell_type": "code",
   "execution_count": 81,
   "metadata": {
    "collapsed": true
   },
   "outputs": [],
   "source": [
    "X = df[[ 'ArtsN_1998', 'JobsN_1998', 'ArtsN_1999', 'JobsN_1999', 'ArtsN_2000', 'JobsN_2000', 'ArtsN_2001', 'JobsN_2001',\n",
    " 'ArtsN_2002', 'JobsN_2002', 'ArtsN_2003', 'JobsN_2003', 'ArtsN_2004', 'JobsN_2004', 'ArtsN_2005', 'JobsN_2005',\n",
    " 'ArtsN_2006', 'JobsN_2006', 'ArtsN_2007', 'JobsN_2007', 'ArtsN_2008', 'JobsN_2008', 'ArtsN_2009', 'JobsN_2009',\n",
    " 'ArtsN_2010', 'JobsN_2010', 'ArtsN_2011', 'JobsN_2011', 'ArtsN_2012', 'JobsN_2012', 'ArtsN_2013', 'JobsN_2013']]\n",
    "y = df['ArtsN_2014']"
   ]
  },
  {
   "cell_type": "code",
   "execution_count": 82,
   "metadata": {
    "collapsed": true
   },
   "outputs": [
    {
     "ename": "TypeError",
     "evalue": "ufunc 'add' did not contain a loop with signature matching types dtype('S32') dtype('S32') dtype('S32')",
     "output_type": "error",
     "traceback": [
      "\u001b[0;31m---------------------------------------------------------------------------\u001b[0m",
      "\u001b[0;31mTypeError\u001b[0m                                 Traceback (most recent call last)",
      "\u001b[0;32m<ipython-input-82-44983580e01e>\u001b[0m in \u001b[0;36m<module>\u001b[0;34m()\u001b[0m\n\u001b[1;32m      8\u001b[0m \u001b[0;34m\u001b[0m\u001b[0m\n\u001b[1;32m      9\u001b[0m \u001b[0;31m# Add one line to simply print out the resulting scores:\u001b[0m\u001b[0;34m\u001b[0m\u001b[0;34m\u001b[0m\u001b[0m\n\u001b[0;32m---> 10\u001b[0;31m \u001b[0;32mprint\u001b[0m \u001b[0;34m\"cross validation scores: \"\u001b[0m \u001b[0;34m+\u001b[0m \u001b[0mrf_scores\u001b[0m\u001b[0;34m\u001b[0m\u001b[0m\n\u001b[0m\u001b[1;32m     11\u001b[0m \u001b[0;34m\u001b[0m\u001b[0m\n\u001b[1;32m     12\u001b[0m \u001b[0;31m# Get the mean of these scores (one line below):\u001b[0m\u001b[0;34m\u001b[0m\u001b[0;34m\u001b[0m\u001b[0m\n",
      "\u001b[0;31mTypeError\u001b[0m: ufunc 'add' did not contain a loop with signature matching types dtype('S32') dtype('S32') dtype('S32')"
     ]
    }
   ],
   "source": [
    "# Initialize a LogisticRegression object (one line below):\n",
    "\n",
    "rf = RandomForestClassifier(n_estimators = 1000,\n",
    "                           class_weight='balanced')\n",
    "\n",
    "# Get the cross validated accuracy score for each of three cross validation folds (one line below):\n",
    "rf_scores = cross_val_score(rf, X, y)\n",
    "\n",
    "# Add one line to simply print out the resulting scores:\n",
    "print \"cross validation scores: \" + rf_scores\n",
    "\n",
    "# Get the mean of these scores (one line below):\n",
    "print \"mean of cross validation scores: \" + round(rf_scores.mean(), 3)\n",
    "\n",
    "rf.fit(X, y)\n",
    "fi = rf.feature_importances_\n",
    "feat = X.columns.values\n",
    "feat_df = pd.DataFrame({\"importances\": fi,\n",
    "                        \"features\": feat})\n",
    "feat_df.sort(\"importances\", ascending=False)"
   ]
  },
  {
   "cell_type": "markdown",
   "metadata": {},
   "source": [
    "## Clustering Analysis"
   ]
  },
  {
   "cell_type": "code",
   "execution_count": 47,
   "metadata": {
    "collapsed": true
   },
   "outputs": [],
   "source": [
    "def set_colors(labels, colors='rgbykcm'):\n",
    "    colored_labels = []\n",
    "    for label in labels:\n",
    "        colored_labels.append(colors[label])\n",
    "    return colored_labels"
   ]
  },
  {
   "cell_type": "code",
   "execution_count": 51,
   "metadata": {
    "collapsed": false,
    "scrolled": true
   },
   "outputs": [
    {
     "data": {
      "image/png": "[encoded data removed]",
      "text/plain": [
       "<matplotlib.figure.Figure at 0x1addfc6d0>"
      ]
     },
     "metadata": {},
     "output_type": "display_data"
    }
   ],
   "source": [
    "plt.scatter(df['Utilitarian'], df['ArtsN_2014'])\n",
    "plt.show()"
   ]
  },
  {
   "cell_type": "code",
   "execution_count": 50,
   "metadata": {
    "collapsed": false
   },
   "outputs": [
    {
     "data": {
      "image/png": "[encoded data removed]",
      "text/plain": [
       "<matplotlib.figure.Figure at 0x1b2fd1890>"
      ]
     },
     "metadata": {},
     "output_type": "display_data"
    }
   ],
   "source": [
    "# Fit a k-means estimator\n",
    "estimator = KMeans(n_clusters=2)\n",
    "X = df[[\"Exhibitionism\", \"ArtsN_2014\"]]\n",
    "estimator.fit(X)\n",
    "# Clusters are given in the labels_ attribute\n",
    "labels = estimator.labels_\n",
    "# Plot the data\n",
    "colors = set_colors(labels)\n",
    "plt.scatter(df[\"Exhibitionism\"], df[\"ArtsN_2014\"], c=colors)\n",
    "plt.xlabel(\"Exhibitionism\")\n",
    "plt.ylabel(\"ArtsN_2014\")\n",
    "plt.show()"
   ]
  },
  {
   "cell_type": "markdown",
   "metadata": {},
   "source": [
    "## DBSCAN Clustering"
   ]
  },
  {
   "cell_type": "code",
   "execution_count": 53,
   "metadata": {
    "collapsed": false
   },
   "outputs": [
    {
     "data": {
      "text/plain": [
       "<seaborn.matrix.ClusterGrid at 0x1b387ef50>"
      ]
     },
     "execution_count": 53,
     "metadata": {},
     "output_type": "execute_result"
    },
    {
     "data": {
      "image/png": "[encoded data removed]",
      "text/plain": [
       "<matplotlib.figure.Figure at 0x1b387e710>"
      ]
     },
     "metadata": {},
     "output_type": "display_data"
    }
   ],
   "source": [
    "sns.clustermap(df[[\"JobsN_2014\", \"ArtsN_2014\"]], method=\"complete\")"
   ]
  },
  {
   "cell_type": "code",
   "execution_count": 58,
   "metadata": {
    "collapsed": false
   },
   "outputs": [
    {
     "data": {
      "image/png": "[encoded data removed]",
      "text/plain": [
       "<matplotlib.figure.Figure at 0x1d4b683d0>"
      ]
     },
     "metadata": {},
     "output_type": "display_data"
    }
   ],
   "source": [
    "estimator = KMeans(n_clusters=3)\n",
    "X = df[[\"JobsN_2014\", \"ArtsN_2014\", \"CollProfLv90\", \"zip\"]]\n",
    "estimator.fit(X)\n",
    "# Clusters are given in the labels_ attribute\n",
    "labels = estimator.labels_\n",
    "\n",
    "colors = set_colors(labels)\n",
    "plt.scatter(df['zip'], df['ArtsN_2014'], c=colors)\n",
    "plt.xlabel(\"zip\")\n",
    "plt.ylabel(\"ArtsN_2014\")\n",
    "plt.show()"
   ]
  },
  {
   "cell_type": "markdown",
   "metadata": {},
   "source": [
    "## Autocorrelation"
   ]
  },
  {
   "cell_type": "code",
   "execution_count": 33,
   "metadata": {
    "collapsed": true
   },
   "outputs": [],
   "source": [
    "# Loading the data file in the LONG format\n",
    "df_long = pd.read_csv(\"nomisslong_scenes_data.csv\")"
   ]
  },
  {
   "cell_type": "code",
   "execution_count": 34,
   "metadata": {
    "collapsed": false
   },
   "outputs": [
    {
     "name": "stdout",
     "output_type": "stream",
     "text": [
      "1 0.0107215082748\n",
      "2 -0.0225132467807\n",
      "3 -0.0271102246238\n",
      "4 -0.0267458808641\n",
      "5 -0.0534583188153\n",
      "6 -0.0299821113833\n",
      "7 -0.0103537689112\n",
      "8 -0.0415280499578\n",
      "9 0.0627152821947\n",
      "10 -0.0391998383108\n",
      "11 -0.00387053658595\n",
      "12 -0.00606091511942\n",
      "13 0.00999593363035\n",
      "14 -0.00596623437399\n"
     ]
    }
   ],
   "source": [
    "# How does autocorrelation vary in different ranges of years? For arts.\n",
    "\n",
    "period_lag = range(1, 15)\n",
    "auto_corrs_list = []\n",
    "for x in period_lag:\n",
    "    y = df_long['ArtsN'].autocorr(lag=x)\n",
    "    auto_corrs_list.append(y)\n",
    "    print x, y"
   ]
  },
  {
   "cell_type": "code",
   "execution_count": 35,
   "metadata": {
    "collapsed": false
   },
   "outputs": [
    {
     "data": {
      "text/plain": [
       "[<matplotlib.lines.Line2D at 0x11af9bc50>]"
      ]
     },
     "execution_count": 35,
     "metadata": {},
     "output_type": "execute_result"
    },
    {
     "data": {
      "image/png": "[encoded data removed]",
      "text/plain": [
       "<matplotlib.figure.Figure at 0x11ea2b2d0>"
      ]
     },
     "metadata": {},
     "output_type": "display_data"
    }
   ],
   "source": [
    "plt.plot(period_lag, auto_corrs_list)"
   ]
  },
  {
   "cell_type": "code",
   "execution_count": 36,
   "metadata": {
    "collapsed": false
   },
   "outputs": [
    {
     "name": "stdout",
     "output_type": "stream",
     "text": [
      "1 -0.0155136146031\n",
      "2 0.0128289586723\n",
      "3 -0.0365475892725\n",
      "4 0.0330488589732\n",
      "5 -0.04417415953\n",
      "6 0.0114980068677\n",
      "7 -0.0211063165141\n",
      "8 -0.0394824518825\n",
      "9 0.113351419026\n",
      "10 -0.0211937410632\n",
      "11 -0.0486768359561\n",
      "12 0.0222796115483\n",
      "13 0.0518465322412\n",
      "14 -0.0193306617181\n"
     ]
    }
   ],
   "source": [
    "# Testing autocorrelation for the lag between all time periods. For jobs. \n",
    "\n",
    "period_lag = range(1, 15)\n",
    "auto_corrs_list = []\n",
    "for x in period_lag:\n",
    "    y = df_long['JobsN'].autocorr(lag=x)\n",
    "    auto_corrs_list.append(y)\n",
    "    print x, y"
   ]
  },
  {
   "cell_type": "code",
   "execution_count": 37,
   "metadata": {
    "collapsed": false
   },
   "outputs": [
    {
     "data": {
      "text/plain": [
       "[<matplotlib.lines.Line2D at 0x11b1757d0>]"
      ]
     },
     "execution_count": 37,
     "metadata": {},
     "output_type": "execute_result"
    },
    {
     "data": {
      "image/png": "[encoded data removed]",
      "text/plain": [
       "<matplotlib.figure.Figure at 0x11af96550>"
      ]
     },
     "metadata": {},
     "output_type": "display_data"
    }
   ],
   "source": [
    "plt.plot(period_lag, auto_corrs_list)"
   ]
  },
  {
   "cell_type": "markdown",
   "metadata": {},
   "source": [
    "## Times Series Analysis"
   ]
  },
  {
   "cell_type": "code",
   "execution_count": 38,
   "metadata": {
    "collapsed": false
   },
   "outputs": [
    {
     "data": {
      "text/html": [
       "<div>\n",
       "<table border=\"1\" class=\"dataframe\">\n",
       "  <thead>\n",
       "    <tr style=\"text-align: right;\">\n",
       "      <th></th>\n",
       "      <th>Unnamed: 0</th>\n",
       "      <th>zip</th>\n",
       "      <th>MedAge2k</th>\n",
       "      <th>pctba2k</th>\n",
       "      <th>pctba90</th>\n",
       "      <th>racediversity2k</th>\n",
       "      <th>racediversity90</th>\n",
       "      <th>medrent2k</th>\n",
       "      <th>medrent90</th>\n",
       "      <th>medhhinc2k</th>\n",
       "      <th>...</th>\n",
       "      <th>esNAICS_INT32</th>\n",
       "      <th>esNAICS_INT33</th>\n",
       "      <th>esNAICS_INT34</th>\n",
       "      <th>time</th>\n",
       "      <th>JobsT</th>\n",
       "      <th>ArtsN</th>\n",
       "      <th>ArtsW</th>\n",
       "      <th>JobsN</th>\n",
       "      <th>JobsW</th>\n",
       "      <th>ArtSupport</th>\n",
       "    </tr>\n",
       "  </thead>\n",
       "  <tbody>\n",
       "    <tr>\n",
       "      <th>0</th>\n",
       "      <td>75025.1998</td>\n",
       "      <td>75025</td>\n",
       "      <td>32.6</td>\n",
       "      <td>64.562533</td>\n",
       "      <td>56.361886</td>\n",
       "      <td>0.434138</td>\n",
       "      <td>0.257536</td>\n",
       "      <td>875</td>\n",
       "      <td>860</td>\n",
       "      <td>98480</td>\n",
       "      <td>...</td>\n",
       "      <td>310.75</td>\n",
       "      <td>327.50</td>\n",
       "      <td>305.25</td>\n",
       "      <td>1998</td>\n",
       "      <td>1615</td>\n",
       "      <td>48</td>\n",
       "      <td>234</td>\n",
       "      <td>1567</td>\n",
       "      <td>1381</td>\n",
       "      <td>186</td>\n",
       "    </tr>\n",
       "    <tr>\n",
       "      <th>1</th>\n",
       "      <td>48732.1998</td>\n",
       "      <td>48732</td>\n",
       "      <td>39.7</td>\n",
       "      <td>18.292533</td>\n",
       "      <td>16.080144</td>\n",
       "      <td>0.115762</td>\n",
       "      <td>0.089850</td>\n",
       "      <td>490</td>\n",
       "      <td>403</td>\n",
       "      <td>37347</td>\n",
       "      <td>...</td>\n",
       "      <td>142.00</td>\n",
       "      <td>149.25</td>\n",
       "      <td>146.25</td>\n",
       "      <td>1998</td>\n",
       "      <td>3406</td>\n",
       "      <td>6</td>\n",
       "      <td>629</td>\n",
       "      <td>3400</td>\n",
       "      <td>2777</td>\n",
       "      <td>623</td>\n",
       "    </tr>\n",
       "    <tr>\n",
       "      <th>2</th>\n",
       "      <td>17551.1998</td>\n",
       "      <td>17551</td>\n",
       "      <td>23.5</td>\n",
       "      <td>33.640652</td>\n",
       "      <td>27.965674</td>\n",
       "      <td>0.147491</td>\n",
       "      <td>0.128646</td>\n",
       "      <td>660</td>\n",
       "      <td>455</td>\n",
       "      <td>43088</td>\n",
       "      <td>...</td>\n",
       "      <td>133.75</td>\n",
       "      <td>141.75</td>\n",
       "      <td>144.00</td>\n",
       "      <td>1998</td>\n",
       "      <td>1308</td>\n",
       "      <td>9</td>\n",
       "      <td>339</td>\n",
       "      <td>1299</td>\n",
       "      <td>969</td>\n",
       "      <td>330</td>\n",
       "    </tr>\n",
       "    <tr>\n",
       "      <th>3</th>\n",
       "      <td>92404.1998</td>\n",
       "      <td>92404</td>\n",
       "      <td>29.2</td>\n",
       "      <td>12.492454</td>\n",
       "      <td>15.670007</td>\n",
       "      <td>0.753051</td>\n",
       "      <td>0.537419</td>\n",
       "      <td>550</td>\n",
       "      <td>578</td>\n",
       "      <td>31162</td>\n",
       "      <td>...</td>\n",
       "      <td>397.50</td>\n",
       "      <td>417.50</td>\n",
       "      <td>406.00</td>\n",
       "      <td>1998</td>\n",
       "      <td>10043</td>\n",
       "      <td>66</td>\n",
       "      <td>1082</td>\n",
       "      <td>9977</td>\n",
       "      <td>8961</td>\n",
       "      <td>1016</td>\n",
       "    </tr>\n",
       "    <tr>\n",
       "      <th>4</th>\n",
       "      <td>6798.1998</td>\n",
       "      <td>6798</td>\n",
       "      <td>41.0</td>\n",
       "      <td>41.928690</td>\n",
       "      <td>41.745366</td>\n",
       "      <td>0.084089</td>\n",
       "      <td>0.044776</td>\n",
       "      <td>783</td>\n",
       "      <td>718</td>\n",
       "      <td>68408</td>\n",
       "      <td>...</td>\n",
       "      <td>325.75</td>\n",
       "      <td>340.25</td>\n",
       "      <td>335.00</td>\n",
       "      <td>1998</td>\n",
       "      <td>2310</td>\n",
       "      <td>65</td>\n",
       "      <td>472</td>\n",
       "      <td>2245</td>\n",
       "      <td>1838</td>\n",
       "      <td>407</td>\n",
       "    </tr>\n",
       "  </tbody>\n",
       "</table>\n",
       "<p>5 rows × 92 columns</p>\n",
       "</div>"
      ],
      "text/plain": [
       "   Unnamed: 0    zip  MedAge2k    pctba2k    pctba90  racediversity2k  \\\n",
       "0  75025.1998  75025      32.6  64.562533  56.361886         0.434138   \n",
       "1  48732.1998  48732      39.7  18.292533  16.080144         0.115762   \n",
       "2  17551.1998  17551      23.5  33.640652  27.965674         0.147491   \n",
       "3  92404.1998  92404      29.2  12.492454  15.670007         0.753051   \n",
       "4   6798.1998   6798      41.0  41.928690  41.745366         0.084089   \n",
       "\n",
       "   racediversity90  medrent2k  medrent90  medhhinc2k     ...      \\\n",
       "0         0.257536        875        860       98480     ...       \n",
       "1         0.089850        490        403       37347     ...       \n",
       "2         0.128646        660        455       43088     ...       \n",
       "3         0.537419        550        578       31162     ...       \n",
       "4         0.044776        783        718       68408     ...       \n",
       "\n",
       "   esNAICS_INT32  esNAICS_INT33  esNAICS_INT34  time  JobsT  ArtsN  ArtsW  \\\n",
       "0         310.75         327.50         305.25  1998   1615     48    234   \n",
       "1         142.00         149.25         146.25  1998   3406      6    629   \n",
       "2         133.75         141.75         144.00  1998   1308      9    339   \n",
       "3         397.50         417.50         406.00  1998  10043     66   1082   \n",
       "4         325.75         340.25         335.00  1998   2310     65    472   \n",
       "\n",
       "   JobsN  JobsW  ArtSupport  \n",
       "0   1567   1381         186  \n",
       "1   3400   2777         623  \n",
       "2   1299    969         330  \n",
       "3   9977   8961        1016  \n",
       "4   2245   1838         407  \n",
       "\n",
       "[5 rows x 92 columns]"
      ]
     },
     "execution_count": 38,
     "metadata": {},
     "output_type": "execute_result"
    }
   ],
   "source": [
    "df_long.head()"
   ]
  },
  {
   "cell_type": "code",
   "execution_count": 39,
   "metadata": {
    "collapsed": false
   },
   "outputs": [],
   "source": [
    "df_long['time'] = pd.to_datetime(df_long['time'])\n",
    "df_long.set_index('time', inplace=True)\n",
    "df_long['time'] = df_long.index.year"
   ]
  },
  {
   "cell_type": "code",
   "execution_count": 119,
   "metadata": {
    "collapsed": false
   },
   "outputs": [
    {
     "data": {
      "text/plain": [
       "(8500, 92)"
      ]
     },
     "execution_count": 119,
     "metadata": {},
     "output_type": "execute_result"
    }
   ],
   "source": [
    "df_long.shape"
   ]
  },
  {
   "cell_type": "code",
   "execution_count": null,
   "metadata": {
    "collapsed": true
   },
   "outputs": [],
   "source": []
  }
 ],
 "metadata": {
  "anaconda-cloud": {},
  "kernelspec": {
   "display_name": "Python [Root]",
   "language": "python",
   "name": "Python [Root]"
  },
  "language_info": {
   "codemirror_mode": {
    "name": "ipython",
    "version": 2
   },
   "file_extension": ".py",
   "mimetype": "text/x-python",
   "name": "python",
   "nbconvert_exporter": "python",
   "pygments_lexer": "ipython2",
   "version": "2.7.12"
  }
 },
 "nbformat": 4,
 "nbformat_minor": 0
}
